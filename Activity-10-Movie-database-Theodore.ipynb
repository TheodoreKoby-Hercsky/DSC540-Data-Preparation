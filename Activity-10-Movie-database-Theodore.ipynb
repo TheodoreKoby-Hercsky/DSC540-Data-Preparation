{
 "cells": [
  {
   "cell_type": "markdown",
   "id": "a1637334",
   "metadata": {},
   "source": [
    "## Activity 10: Building your own movie database by reading an API"
   ]
  },
  {
   "cell_type": "markdown",
   "id": "c2667d1d",
   "metadata": {},
   "source": [
    "## To retrieve and prints basic data about a movie (the title is entered by the user) from the web (OMDB database). If a poster of the movie can be found, it downloads the file and saves it at a user-specified location."
   ]
  },
  {
   "cell_type": "markdown",
   "id": "da277b7f",
   "metadata": {},
   "source": [
    "## Import urllib.request, urllib.parse, urllib.error, and json"
   ]
  },
  {
   "cell_type": "code",
   "execution_count": 1,
   "id": "147b11c9",
   "metadata": {},
   "outputs": [],
   "source": [
    "import urllib.request, urllib.parse, urllib.error\n",
    "import json"
   ]
  },
  {
   "cell_type": "markdown",
   "id": "8319e484",
   "metadata": {},
   "source": [
    "## Load the secret API key (you have to get one from OMDB website and use that, 1000 daily limit) from a JSON file stored in the same folder in a variable, by using json.loads. \n",
    "## Obtain a key and store it in JSON as APIkeys.json\n",
    "## Open the APIkeys.json file"
   ]
  },
  {
   "cell_type": "code",
   "execution_count": null,
   "id": "32a85eac",
   "metadata": {},
   "outputs": [],
   "source": [
    "Here is your key: 8dee7169\n",
    "\n",
    "Please append it to all of your API requests,\n",
    "\n",
    "OMDb API: http://www.omdbapi.com/?i=tt3896198&apikey=8dee7169\n",
    "        \n",
    "Here is your key: 5bcaaca4\n",
    "\n",
    "Please append it to all of your API requests,\n",
    "\n",
    "OMDb API: http://www.omdbapi.com/?i=tt3896198&apikey=5bcaaca4"
   ]
  },
  {
   "cell_type": "code",
   "execution_count": 78,
   "id": "78fc2987",
   "metadata": {},
   "outputs": [],
   "source": [
    "with open('APIkeys.json') as file:\n",
    "    keys = json.load(file)\n",
    "    obdbapi = keys['api_key']"
   ]
  },
  {
   "cell_type": "markdown",
   "id": "4a14193a",
   "metadata": {},
   "source": [
    "## Assign the OMDB portal (http://www.omdbapi.com/?) as a string to a variable.\n",
    "## Create a variable called apikey with the last portion of the URL (\"&apikey=secretapikey\"), where secretapikey is your own API key."
   ]
  },
  {
   "cell_type": "code",
   "execution_count": 79,
   "id": "08027746",
   "metadata": {},
   "outputs": [],
   "source": [
    "# First I created a string to a variable for OMDB portal. Then I will create a \n",
    "# variable such as the apikey below that has the last portion of the url and the api key\n",
    "OMDB_url = 'http://www.omdbapi.com/?'\n",
    "apikey = '&apikey='+obdbapi"
   ]
  },
  {
   "cell_type": "markdown",
   "id": "8d06f687",
   "metadata": {},
   "source": [
    "## Write a utility function called print_json to print the movie data from a JSON file (which we will get from the portal)"
   ]
  },
  {
   "cell_type": "code",
   "execution_count": 80,
   "id": "d3e190f6",
   "metadata": {},
   "outputs": [],
   "source": [
    "# First I will create a print-json function that will allow us to print the movie data \n",
    "# from the portal\n",
    "def print_json(json_data):\n",
    "    movie_headers=['Title', 'Year', 'Rated', 'Released', 'Runtime', 'Genre',\n",
    "                   'Director', 'Writer', 'Actors', 'Plot', 'Language', 'Country', \n",
    "                   'Awards', 'Ratings', 'Metascore', 'imdbRating', 'imdbVotes', 'imdbID']\n",
    "    print(\"-\"*50)\n",
    "    for k in movie_headers:\n",
    "        if k in list(json_data.keys()):\n",
    "            print(f\"{k}: {json_data[k]}\")\n",
    "    print(\"-\"*50)"
   ]
  },
  {
   "cell_type": "markdown",
   "id": "6393c842",
   "metadata": {},
   "source": [
    "## Write a utility function to download a poster of the movie based on the information from the jason dataset and save in your local folder. Use os module. The poster data is stored in the JSON key Poster. Use the Python command to open a file and write the poster data. Close the file after done. This function will save the poster data as an image file."
   ]
  },
  {
   "cell_type": "code",
   "execution_count": 81,
   "id": "82f53a10",
   "metadata": {},
   "outputs": [],
   "source": [
    "# First I will create a function that will use the os module and uses the python command\n",
    "# to open the file and write the poster data that will split the the poster url and takes \n",
    "# the string into a file extension. Then I will use the request.urlopen to .read the file \n",
    "# from the web then I will use the os.path and os.mkdir to create a new dictionary \n",
    "import os\n",
    "def download_poster(json_data):\n",
    "    title = json_data['Title']\n",
    "    json_poster = json_data['Poster']\n",
    "    extend_file=json_poster.split('.')[-1]\n",
    "    poster_file = urllib.request.urlopen(json_poster).read()\n",
    "        \n",
    "    savelocation=os.getcwd()+'\\\\'+'Posters'+'\\\\'\n",
    "    if not os.path.isdir(savelocation):\n",
    "        os.mkdir(savelocation)\n",
    "    \n",
    "    data_file=savelocation+str(title)+'.'+extend_file\n",
    "    file=open(data_file,'wb')\n",
    "    file.write(poster_file)\n",
    "    file.close()"
   ]
  },
  {
   "cell_type": "markdown",
   "id": "88ea3e47",
   "metadata": {},
   "source": [
    "## Write a utility function called search_movie to search for a movie by its name, print the downloaded JSON data, and save the movie poster in the local folder. Use a try-except loop for this. use the previously created variables serviceurl and apikey variables. You have to pass on a dictionary with a key, t, and the movie name as the corresponding value to the urllib.parse.urlencode() function and then add the serviceurl and apikey to the output of the function to construct the full URL. This URL will be used for accessing the data. The JSON data has a key called Response. If it is True, that means the read was successful. Check this before processing the data. If not successful, then print the JSON key Error, which will contain the appropriate error message returned by the movie database."
   ]
  },
  {
   "cell_type": "code",
   "execution_count": 82,
   "id": "62deb8f7",
   "metadata": {},
   "outputs": [],
   "source": [
    "# Next I will create a function titled search_movie that will use try loop to search for a \n",
    "# movie by its title by using previous created variables then I will use an if statement to \n",
    "# see if the user wants to download the movie poster if not use an else to print an error \n",
    "# occured\n",
    "def search_movie(title):\n",
    "    try:\n",
    "        movie_url = OMDB_url + urllib.parse.urlencode({'t': str(title)})+apikey\n",
    "        print(f'Pulling movie data \"{title}\" Please wait...')\n",
    "        print(movie_url)\n",
    "        uh = urllib.request.urlopen(movie_url)\n",
    "        data = uh.read()\n",
    "        json_data=json.loads(data)\n",
    "        \n",
    "        if json_data['Response']=='True':\n",
    "            print_json(json_data)\n",
    "            if json_data['Poster']!='N/A':\n",
    "                save_poster(json_data)\n",
    "        else:\n",
    "            print(\"Error Received: \",json_data['Error'])\n",
    "    \n",
    "    except urllib.error.URLError as e:\n",
    "        print(f\"Broken: {e.reason}\")"
   ]
  },
  {
   "cell_type": "markdown",
   "id": "fda94749",
   "metadata": {},
   "source": [
    "## Test search_movie function by entering Titanic"
   ]
  },
  {
   "cell_type": "code",
   "execution_count": 84,
   "id": "1358d6fc",
   "metadata": {},
   "outputs": [
    {
     "name": "stdout",
     "output_type": "stream",
     "text": [
      "Pulling movie data \"Titanic\" Please wait...\n",
      "http://www.omdbapi.com/?t=Titanic&apikey=5bcaaca4\n",
      "--------------------------------------------------\n",
      "Title: Titanic\n",
      "Year: 1997\n",
      "Rated: PG-13\n",
      "Released: 19 Dec 1997\n",
      "Runtime: 194 min\n",
      "Genre: Drama, Romance\n",
      "Director: James Cameron\n",
      "Writer: James Cameron\n",
      "Actors: Leonardo DiCaprio, Kate Winslet, Billy Zane\n",
      "Plot: A seventeen-year-old aristocrat falls in love with a kind but poor artist aboard the luxurious, ill-fated R.M.S. Titanic.\n",
      "Language: English, Swedish, Italian, French\n",
      "Country: United States, Mexico, Australia\n",
      "Awards: Won 11 Oscars. 125 wins & 83 nominations total\n",
      "Ratings: [{'Source': 'Internet Movie Database', 'Value': '7.8/10'}, {'Source': 'Rotten Tomatoes', 'Value': '89%'}, {'Source': 'Metacritic', 'Value': '75/100'}]\n",
      "Metascore: 75\n",
      "imdbRating: 7.8\n",
      "imdbVotes: 1,098,236\n",
      "imdbID: tt0120338\n",
      "--------------------------------------------------\n"
     ]
    },
    {
     "ename": "NameError",
     "evalue": "name 'save_poster' is not defined",
     "output_type": "error",
     "traceback": [
      "\u001b[0;31m---------------------------------------------------------------------------\u001b[0m",
      "\u001b[0;31mNameError\u001b[0m                                 Traceback (most recent call last)",
      "\u001b[0;32m<ipython-input-84-aae2628574ae>\u001b[0m in \u001b[0;36m<module>\u001b[0;34m\u001b[0m\n\u001b[1;32m      1\u001b[0m \u001b[0;31m# I will now test my function try and pull the Titanic data\u001b[0m\u001b[0;34m\u001b[0m\u001b[0;34m\u001b[0m\u001b[0;34m\u001b[0m\u001b[0m\n\u001b[0;32m----> 2\u001b[0;31m \u001b[0msearch_movie\u001b[0m\u001b[0;34m(\u001b[0m\u001b[0;34m\"Titanic\"\u001b[0m\u001b[0;34m)\u001b[0m\u001b[0;34m\u001b[0m\u001b[0;34m\u001b[0m\u001b[0m\n\u001b[0m",
      "\u001b[0;32m<ipython-input-82-07ef201c0c20>\u001b[0m in \u001b[0;36msearch_movie\u001b[0;34m(title)\u001b[0m\n\u001b[1;32m     15\u001b[0m             \u001b[0mprint_json\u001b[0m\u001b[0;34m(\u001b[0m\u001b[0mjson_data\u001b[0m\u001b[0;34m)\u001b[0m\u001b[0;34m\u001b[0m\u001b[0;34m\u001b[0m\u001b[0m\n\u001b[1;32m     16\u001b[0m             \u001b[0;32mif\u001b[0m \u001b[0mjson_data\u001b[0m\u001b[0;34m[\u001b[0m\u001b[0;34m'Poster'\u001b[0m\u001b[0;34m]\u001b[0m\u001b[0;34m!=\u001b[0m\u001b[0;34m'N/A'\u001b[0m\u001b[0;34m:\u001b[0m\u001b[0;34m\u001b[0m\u001b[0;34m\u001b[0m\u001b[0m\n\u001b[0;32m---> 17\u001b[0;31m                 \u001b[0msave_poster\u001b[0m\u001b[0;34m(\u001b[0m\u001b[0mjson_data\u001b[0m\u001b[0;34m)\u001b[0m\u001b[0;34m\u001b[0m\u001b[0;34m\u001b[0m\u001b[0m\n\u001b[0m\u001b[1;32m     18\u001b[0m         \u001b[0;32melse\u001b[0m\u001b[0;34m:\u001b[0m\u001b[0;34m\u001b[0m\u001b[0;34m\u001b[0m\u001b[0m\n\u001b[1;32m     19\u001b[0m             \u001b[0mprint\u001b[0m\u001b[0;34m(\u001b[0m\u001b[0;34m\"Error Received: \"\u001b[0m\u001b[0;34m,\u001b[0m\u001b[0mjson_data\u001b[0m\u001b[0;34m[\u001b[0m\u001b[0;34m'Error'\u001b[0m\u001b[0;34m]\u001b[0m\u001b[0;34m)\u001b[0m\u001b[0;34m\u001b[0m\u001b[0;34m\u001b[0m\u001b[0m\n",
      "\u001b[0;31mNameError\u001b[0m: name 'save_poster' is not defined"
     ]
    }
   ],
   "source": [
    "# I will now test my function try and pull the Titanic data\n",
    "search_movie(\"Titanic\")"
   ]
  },
  {
   "cell_type": "markdown",
   "id": "4174e101",
   "metadata": {},
   "source": [
    "## Test search_movie function by entering \"Random_error\" (obviously this will not be found and you should be able to check whether your error catching code is working properly)"
   ]
  },
  {
   "cell_type": "code",
   "execution_count": 85,
   "id": "56414666",
   "metadata": {},
   "outputs": [
    {
     "name": "stdout",
     "output_type": "stream",
     "text": [
      "Pulling movie data \"Random_error\" Please wait...\n",
      "http://www.omdbapi.com/?t=Random_error&apikey=5bcaaca4\n",
      "Error Received:  Movie not found!\n"
     ]
    }
   ],
   "source": [
    "search_movie(\"Random_error\")"
   ]
  },
  {
   "cell_type": "code",
   "execution_count": 92,
   "id": "1a0914f7",
   "metadata": {},
   "outputs": [
    {
     "name": "stdout",
     "output_type": "stream",
     "text": [
      "Pulling movie data \"Jaws\" Please wait...\n",
      "http://www.omdbapi.com/?t=Jaws&apikey=5bcaaca4\n",
      "--------------------------------------------------\n",
      "Title: Jaws\n",
      "Year: 1975\n",
      "Rated: PG\n",
      "Released: 20 Jun 1975\n",
      "Runtime: 124 min\n",
      "Genre: Adventure, Thriller\n",
      "Director: Steven Spielberg\n",
      "Writer: Peter Benchley, Carl Gottlieb\n",
      "Actors: Roy Scheider, Robert Shaw, Richard Dreyfuss\n",
      "Plot: When a killer shark unleashes chaos on beach community off Long Island, it's up to a local sheriff, a marine biologist, and an old seafarer to hunt the beast down.\n",
      "Language: English\n",
      "Country: United States\n",
      "Awards: Won 3 Oscars. 15 wins & 20 nominations total\n",
      "Ratings: [{'Source': 'Internet Movie Database', 'Value': '8.0/10'}, {'Source': 'Rotten Tomatoes', 'Value': '98%'}, {'Source': 'Metacritic', 'Value': '87/100'}]\n",
      "Metascore: 87\n",
      "imdbRating: 8.0\n",
      "imdbVotes: 566,855\n",
      "imdbID: tt0073195\n",
      "--------------------------------------------------\n"
     ]
    },
    {
     "ename": "NameError",
     "evalue": "name 'save_poster' is not defined",
     "output_type": "error",
     "traceback": [
      "\u001b[0;31m---------------------------------------------------------------------------\u001b[0m",
      "\u001b[0;31mNameError\u001b[0m                                 Traceback (most recent call last)",
      "\u001b[0;32m<ipython-input-92-c982b90d3367>\u001b[0m in \u001b[0;36m<module>\u001b[0;34m\u001b[0m\n\u001b[1;32m      1\u001b[0m \u001b[0;31m# I also wanted to search for jaws for fun so here it is below:\u001b[0m\u001b[0;34m\u001b[0m\u001b[0;34m\u001b[0m\u001b[0;34m\u001b[0m\u001b[0m\n\u001b[0;32m----> 2\u001b[0;31m \u001b[0msearch_movie\u001b[0m\u001b[0;34m(\u001b[0m\u001b[0;34m\"Jaws\"\u001b[0m\u001b[0;34m)\u001b[0m\u001b[0;34m\u001b[0m\u001b[0;34m\u001b[0m\u001b[0m\n\u001b[0m",
      "\u001b[0;32m<ipython-input-82-07ef201c0c20>\u001b[0m in \u001b[0;36msearch_movie\u001b[0;34m(title)\u001b[0m\n\u001b[1;32m     15\u001b[0m             \u001b[0mprint_json\u001b[0m\u001b[0;34m(\u001b[0m\u001b[0mjson_data\u001b[0m\u001b[0;34m)\u001b[0m\u001b[0;34m\u001b[0m\u001b[0;34m\u001b[0m\u001b[0m\n\u001b[1;32m     16\u001b[0m             \u001b[0;32mif\u001b[0m \u001b[0mjson_data\u001b[0m\u001b[0;34m[\u001b[0m\u001b[0;34m'Poster'\u001b[0m\u001b[0;34m]\u001b[0m\u001b[0;34m!=\u001b[0m\u001b[0;34m'N/A'\u001b[0m\u001b[0;34m:\u001b[0m\u001b[0;34m\u001b[0m\u001b[0;34m\u001b[0m\u001b[0m\n\u001b[0;32m---> 17\u001b[0;31m                 \u001b[0msave_poster\u001b[0m\u001b[0;34m(\u001b[0m\u001b[0mjson_data\u001b[0m\u001b[0;34m)\u001b[0m\u001b[0;34m\u001b[0m\u001b[0;34m\u001b[0m\u001b[0m\n\u001b[0m\u001b[1;32m     18\u001b[0m         \u001b[0;32melse\u001b[0m\u001b[0;34m:\u001b[0m\u001b[0;34m\u001b[0m\u001b[0;34m\u001b[0m\u001b[0m\n\u001b[1;32m     19\u001b[0m             \u001b[0mprint\u001b[0m\u001b[0;34m(\u001b[0m\u001b[0;34m\"Error Received: \"\u001b[0m\u001b[0;34m,\u001b[0m\u001b[0mjson_data\u001b[0m\u001b[0;34m[\u001b[0m\u001b[0;34m'Error'\u001b[0m\u001b[0;34m]\u001b[0m\u001b[0;34m)\u001b[0m\u001b[0;34m\u001b[0m\u001b[0;34m\u001b[0m\u001b[0m\n",
      "\u001b[0;31mNameError\u001b[0m: name 'save_poster' is not defined"
     ]
    }
   ],
   "source": [
    "# I also wanted to search for jaws for fun so here it is below:\n",
    "search_movie(\"Jaws\")"
   ]
  },
  {
   "cell_type": "code",
   "execution_count": null,
   "id": "d0138506",
   "metadata": {},
   "outputs": [],
   "source": []
  }
 ],
 "metadata": {
  "kernelspec": {
   "display_name": "Python 3",
   "language": "python",
   "name": "python3"
  },
  "language_info": {
   "codemirror_mode": {
    "name": "ipython",
    "version": 3
   },
   "file_extension": ".py",
   "mimetype": "text/x-python",
   "name": "python",
   "nbconvert_exporter": "python",
   "pygments_lexer": "ipython3",
   "version": "3.8.8"
  }
 },
 "nbformat": 4,
 "nbformat_minor": 5
}
