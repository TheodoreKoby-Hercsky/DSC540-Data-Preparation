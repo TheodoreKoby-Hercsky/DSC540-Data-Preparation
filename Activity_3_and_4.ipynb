{
 "cells": [
  {
   "cell_type": "markdown",
   "id": "fe714c6a",
   "metadata": {},
   "source": [
    "# Activity 3: Permutation, Iterator, Lambda, List"
   ]
  },
  {
   "cell_type": "code",
   "execution_count": 6,
   "id": "42d4ed16",
   "metadata": {},
   "outputs": [
    {
     "name": "stdout",
     "output_type": "stream",
     "text": [
      "(0, 1, 2)\n",
      "(0, 2, 1)\n",
      "(1, 0, 2)\n",
      "(1, 2, 0)\n",
      "(2, 0, 1)\n",
      "(2, 1, 0)\n"
     ]
    }
   ],
   "source": [
    "# first we will import the permutations and dropwhile from itertools\n",
    "from itertools import permutations, dropwhile\n",
    "# Write an expression to generate all the posible three-digit numbers \n",
    "# using 0, 1, 2 in a for statement to use permutations with a \n",
    "# range of three then print the numbers\n",
    "for three_number in permutations(range(3)):\n",
    "    print(three_number)"
   ]
  },
  {
   "cell_type": "code",
   "execution_count": 7,
   "id": "49adbcec",
   "metadata": {},
   "outputs": [
    {
     "name": "stdout",
     "output_type": "stream",
     "text": [
      "[1, 2]\n",
      "[2, 1]\n",
      "[1, 0, 2]\n",
      "[1, 2, 0]\n",
      "[2, 0, 1]\n",
      "[2, 1, 0]\n"
     ]
    }
   ],
   "source": [
    "# loop over the iterator expression you generated before. print each \n",
    "# element that's returned by the iterator. Use assert and is instance \n",
    "# to make sure that the elements are of the tuple type.\n",
    "# write the loop again using dropwhile with a lambda expression to\n",
    "# drop any leading zeros from the tuples. as an example, (0, 1, 2) \n",
    "# will become [0, 2]. also cast the output of dropwhile to a list\n",
    "\n",
    "for three_number in permutations(range(3)):\n",
    "    print(list(dropwhile(lambda x: x <= 0, three_number)))"
   ]
  },
  {
   "cell_type": "code",
   "execution_count": 14,
   "id": "a9c2c381",
   "metadata": {},
   "outputs": [],
   "source": [
    "import math\n",
    "# check the actual type that dropwhile returns\n",
    "# Combine the preceding code into one block, and this time write a \n",
    "# separate function where you will pass the list generated from \n",
    "# dropwhile and the function will return the whole number \n",
    "# contained in the list\n",
    "def number_pass(whole_numbers):\n",
    "    workable_number = 0\n",
    "    for i in range(0, len(whole_numbers)):\n",
    "        workable_number += (whole_numbers.pop() * \n",
    "                            (math.pow(10, i)))\n",
    "    return workable_number"
   ]
  },
  {
   "cell_type": "code",
   "execution_count": 15,
   "id": "7b8abc22",
   "metadata": {},
   "outputs": [
    {
     "name": "stdout",
     "output_type": "stream",
     "text": [
      "12.0\n",
      "21.0\n",
      "102.0\n",
      "120.0\n",
      "201.0\n",
      "210.0\n"
     ]
    }
   ],
   "source": [
    "for three_number in permutations(range(3)):\n",
    "    whole_numbers = list(dropwhile(lambda x: x \n",
    "                                   <= 0, three_number))\n",
    "    print(number_pass(whole_numbers))"
   ]
  },
  {
   "cell_type": "markdown",
   "id": "b0771f73",
   "metadata": {},
   "source": [
    "# Activity 4: Design Your Own CSV Parser"
   ]
  },
  {
   "cell_type": "code",
   "execution_count": 19,
   "id": "35031d58",
   "metadata": {},
   "outputs": [],
   "source": [
    "# Import zip_longest from itertools.\n",
    "from itertools import zip_longest"
   ]
  },
  {
   "cell_type": "code",
   "execution_count": 20,
   "id": "1a975b17",
   "metadata": {},
   "outputs": [],
   "source": [
    "# Create a function to zip header, line and fillvalue=None\n",
    "# next I will define a funcrion that will zip header line and fill value of \n",
    "# zero while also using the dict comp that wil generate our dict\n",
    "def zip_header(head, line):\n",
    "    zip_one = zip_line(head, line, fillvalue=None)\n",
    "    dict_zip = {kv[0]: kv[1] for kv in zip_one}\n",
    "    return dict_zip"
   ]
  },
  {
   "cell_type": "code",
   "execution_count": 24,
   "id": "4d0c7f35",
   "metadata": {},
   "outputs": [],
   "source": [
    "# Open the accompanying sales_record.csv file from the GitHub link by \n",
    "# using r mode inside a with block and first check that it is opened. \n",
    "# Then we use a loop to see only the first 20 lines. \n",
    "# Then Read the first line and use string methods to generate a list \n",
    "# of all the column names that is split with a comma.\n",
    "with open(\"sales_record.csv\", \"r\") as fd:\n",
    "    read_lines = fd.readline()\n",
    "    head = read_lines.replace(\"\\n\", \"\").split(\",\")\n",
    "    for i, line in enumerate(fd):\n",
    "        line_item = line_item.replace(\"\\n\", \"\").split(\",\")\n",
    "        d = zip_header(head, line)\n",
    "        print(d)\n",
    "        if i > 20:\n",
    "            break"
   ]
  },
  {
   "cell_type": "code",
   "execution_count": 23,
   "id": "dd68503a",
   "metadata": {},
   "outputs": [],
   "source": [
    "# Start reading the file.Read it line by line above"
   ]
  },
  {
   "cell_type": "code",
   "execution_count": null,
   "id": "d6313562",
   "metadata": {},
   "outputs": [],
   "source": []
  }
 ],
 "metadata": {
  "kernelspec": {
   "display_name": "Python 3",
   "language": "python",
   "name": "python3"
  },
  "language_info": {
   "codemirror_mode": {
    "name": "ipython",
    "version": 3
   },
   "file_extension": ".py",
   "mimetype": "text/x-python",
   "name": "python",
   "nbconvert_exporter": "python",
   "pygments_lexer": "ipython3",
   "version": "3.8.8"
  }
 },
 "nbformat": 4,
 "nbformat_minor": 5
}
