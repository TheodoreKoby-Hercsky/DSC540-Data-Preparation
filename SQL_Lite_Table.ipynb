{
 "cells": [
  {
   "cell_type": "markdown",
   "id": "e5dc42da",
   "metadata": {},
   "source": [
    "## Insert data into a SQL Lite database – create a table with the following data"
   ]
  },
  {
   "cell_type": "code",
   "execution_count": 1,
   "id": "d59da284",
   "metadata": {},
   "outputs": [],
   "source": [
    "# First I will import the SQLite\n",
    "import sqlite3"
   ]
  },
  {
   "cell_type": "code",
   "execution_count": 31,
   "id": "2de3de27",
   "metadata": {},
   "outputs": [
    {
     "name": "stdout",
     "output_type": "stream",
     "text": [
      "Successfully Connected to SQLite\n",
      "SQLite table created\n",
      "sqlite connection is closed\n"
     ]
    }
   ],
   "source": [
    "# First I will create and connect to a new database file and define \n",
    "# each column to determine if they are a text, integer, or real.\n",
    "try:\n",
    "    sqliteConnection = sqlite3.connect('SQLite_Database.db')\n",
    "    sqlite_create_table_query = '''CREATE TABLE SqliteDb_developers (\n",
    "                                Name TEXT NOT NULL PRIMARY KEY,\n",
    "                                Address TEXT NOT NULL UNIQUE, \n",
    "                                City TEXT NOT NULL,\n",
    "                                State TEXT NOT NULL,\n",
    "                                Zip INTEGER NOT NULL,\n",
    "                                Phone_Number REAL NOT NULL);'''\n",
    "\n",
    "    cursor = sqliteConnection.cursor()\n",
    "    print(\"Successfully Connected to SQLite\")\n",
    "    cursor.execute(sqlite_create_table_query)\n",
    "    sqliteConnection.commit()\n",
    "    print(\"SQLite table created\")\n",
    "\n",
    "    cursor.close()\n",
    "\n",
    "except sqlite3.Error as error:\n",
    "    print(\"Error while creating a sqlite table\", error)\n",
    "finally:\n",
    "    if sqliteConnection:\n",
    "        sqliteConnection.close()\n",
    "        print(\"sqlite connection is closed\")\n"
   ]
  },
  {
   "cell_type": "code",
   "execution_count": 32,
   "id": "9f589f42",
   "metadata": {},
   "outputs": [
    {
     "name": "stdout",
     "output_type": "stream",
     "text": [
      "Successfully Connected to SQLite\n",
      "Record inserted successfully into SqliteDb_developers table  1\n",
      "The SQLite connection is closed\n"
     ]
    }
   ],
   "source": [
    "# Next I will insert daya into my SQL lite Database by using the functions\n",
    "# connect, cursor, commit, and close\n",
    "try:\n",
    "    sqliteConnection = sqlite3.connect('SQLite_Database.db')\n",
    "    cursor = sqliteConnection.cursor()\n",
    "    print(\"Successfully Connected to SQLite\")\n",
    "\n",
    "    sqlite_insert_query = \"\"\"INSERT INTO SqliteDb_developers\n",
    "                          (Name, Address, City, State, Zip, Phone_Number) \n",
    "                           VALUES \n",
    "                          ('James','6253 west oak drive','Orlando','Florida',33896,'321-090-2376')\"\"\"\n",
    "\n",
    "    count = cursor.execute(sqlite_insert_query)\n",
    "    sqliteConnection.commit()\n",
    "    print(\"Record inserted successfully into SqliteDb_developers table \", cursor.rowcount)\n",
    "    cursor.close()\n",
    "\n",
    "except sqlite3.Error as error:\n",
    "    print(\"Failed to insert data into sqlite table\", error)\n",
    "finally:\n",
    "    if sqliteConnection:\n",
    "        sqliteConnection.close()\n",
    "        print(\"The SQLite connection is closed\")"
   ]
  },
  {
   "cell_type": "code",
   "execution_count": 34,
   "id": "e5bc21f7",
   "metadata": {},
   "outputs": [
    {
     "name": "stdout",
     "output_type": "stream",
     "text": [
      "Connected to SQLite\n",
      "Python Variables inserted successfully into SqliteDb_developers table\n",
      "The SQLite connection is closed\n",
      "Connected to SQLite\n",
      "Python Variables inserted successfully into SqliteDb_developers table\n",
      "The SQLite connection is closed\n",
      "Connected to SQLite\n",
      "Python Variables inserted successfully into SqliteDb_developers table\n",
      "The SQLite connection is closed\n",
      "Connected to SQLite\n",
      "Python Variables inserted successfully into SqliteDb_developers table\n",
      "The SQLite connection is closed\n",
      "Connected to SQLite\n",
      "Python Variables inserted successfully into SqliteDb_developers table\n",
      "The SQLite connection is closed\n",
      "Connected to SQLite\n",
      "Python Variables inserted successfully into SqliteDb_developers table\n",
      "The SQLite connection is closed\n",
      "Connected to SQLite\n",
      "Python Variables inserted successfully into SqliteDb_developers table\n",
      "The SQLite connection is closed\n",
      "Connected to SQLite\n",
      "Python Variables inserted successfully into SqliteDb_developers table\n",
      "The SQLite connection is closed\n",
      "Connected to SQLite\n",
      "Python Variables inserted successfully into SqliteDb_developers table\n",
      "The SQLite connection is closed\n",
      "Connected to SQLite\n",
      "Python Variables inserted successfully into SqliteDb_developers table\n",
      "The SQLite connection is closed\n",
      "Connected to SQLite\n",
      "Python Variables inserted successfully into SqliteDb_developers table\n",
      "The SQLite connection is closed\n"
     ]
    }
   ],
   "source": [
    "# Next I will insert new variable values into the SQLite data table \n",
    "# columns through the use of parameterized query to pass the python \n",
    "# variables as a query\n",
    "\n",
    "def insertVaribleIntoTable(Name, Address, City, State, Zip, Phone_Number):\n",
    "    try:\n",
    "        sqliteConnection = sqlite3.connect('SQLite_Database.db')\n",
    "        cursor = sqliteConnection.cursor()\n",
    "        print(\"Connected to SQLite\")\n",
    "\n",
    "        sqlite_insert_with_param = \"\"\"INSERT INTO SqliteDb_developers\n",
    "                          (Name, Address, City, State, Zip, Phone_Number) \n",
    "                          VALUES (?, ?, ?, ?, ?, ?);\"\"\"\n",
    "\n",
    "        data_tuple = (Name, Address, City, State, Zip, Phone_Number)\n",
    "        cursor.execute(sqlite_insert_with_param, data_tuple)\n",
    "        sqliteConnection.commit()\n",
    "        print(\"Python Variables inserted successfully into SqliteDb_developers table\")\n",
    "\n",
    "        cursor.close()\n",
    "\n",
    "    except sqlite3.Error as error:\n",
    "        print(\"Failed to insert Python variable into sqlite table\", error)\n",
    "    finally:\n",
    "        if sqliteConnection:\n",
    "            sqliteConnection.close()\n",
    "            print(\"The SQLite connection is closed\")\n",
    "\n",
    "insertVaribleIntoTable('Allen','3456 pumpkin drive','West Palm Beach','Florida',33566,'561-833-5943')\n",
    "insertVaribleIntoTable('Caren','5658 butter drive','Miami','Florida',33876,'305-898-2436')\n",
    "insertVaribleIntoTable('Ashley','2948 easter drive','Davenport','Florida',33586,'786-008-2236')\n",
    "insertVaribleIntoTable('Travis','7898 blue park','Fort Lauderdale','Florida',36576,'707-998-1136')\n",
    "insertVaribleIntoTable('Ted','4545 shark ave','San Diego','California',36416,'908-933-5106')\n",
    "insertVaribleIntoTable('Sally','6894 orange ave','Miami','Florida',36346,'305-478-0934')\n",
    "insertVaribleIntoTable('Remy','2378 apple park','Austin','Texas',32216,'454-235-5049')\n",
    "insertVaribleIntoTable('Robyn','9233 park place','New York','New York',36116,'908-999-1133')\n",
    "insertVaribleIntoTable('Sandra','3567 morman drive','clarksville','missourie',34646,'958-345-0909')\n",
    "insertVaribleIntoTable('Bobby','2345 target place','Atlanta','Georgia',36566,'432-329-1066')\n",
    "insertVaribleIntoTable('Thomas','7787 ocean place','Newark','New Jersey',36576,'321-907-3778')"
   ]
  },
  {
   "cell_type": "code",
   "execution_count": null,
   "id": "387a6db6",
   "metadata": {},
   "outputs": [],
   "source": []
  }
 ],
 "metadata": {
  "kernelspec": {
   "display_name": "Python 3",
   "language": "python",
   "name": "python3"
  },
  "language_info": {
   "codemirror_mode": {
    "name": "ipython",
    "version": 3
   },
   "file_extension": ".py",
   "mimetype": "text/x-python",
   "name": "python",
   "nbconvert_exporter": "python",
   "pygments_lexer": "ipython3",
   "version": "3.8.8"
  }
 },
 "nbformat": 4,
 "nbformat_minor": 5
}
