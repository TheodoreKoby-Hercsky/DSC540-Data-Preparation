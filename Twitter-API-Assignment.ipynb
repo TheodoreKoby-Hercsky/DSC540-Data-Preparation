{
 "cells": [
  {
   "cell_type": "markdown",
   "id": "a02b878e",
   "metadata": {},
   "source": [
    "## Connect to the Twitter API and do a simple data pull"
   ]
  },
  {
   "cell_type": "code",
   "execution_count": 1,
   "id": "eef06612",
   "metadata": {},
   "outputs": [
    {
     "name": "stdout",
     "output_type": "stream",
     "text": [
      "Requirement already satisfied: tweepy in /Users/Robyn/opt/anaconda3/lib/python3.8/site-packages (4.1.0)\n",
      "Requirement already satisfied: requests<3,>=2.11.1 in /Users/Robyn/opt/anaconda3/lib/python3.8/site-packages (from tweepy) (2.25.1)\n",
      "Requirement already satisfied: requests-oauthlib<2,>=1.0.0 in /Users/Robyn/opt/anaconda3/lib/python3.8/site-packages (from tweepy) (1.3.0)\n",
      "Requirement already satisfied: urllib3<1.27,>=1.21.1 in /Users/Robyn/opt/anaconda3/lib/python3.8/site-packages (from requests<3,>=2.11.1->tweepy) (1.26.4)\n",
      "Requirement already satisfied: idna<3,>=2.5 in /Users/Robyn/opt/anaconda3/lib/python3.8/site-packages (from requests<3,>=2.11.1->tweepy) (2.10)\n",
      "Requirement already satisfied: chardet<5,>=3.0.2 in /Users/Robyn/opt/anaconda3/lib/python3.8/site-packages (from requests<3,>=2.11.1->tweepy) (4.0.0)\n",
      "Requirement already satisfied: certifi>=2017.4.17 in /Users/Robyn/opt/anaconda3/lib/python3.8/site-packages (from requests<3,>=2.11.1->tweepy) (2020.12.5)\n",
      "Requirement already satisfied: oauthlib>=3.0.0 in /Users/Robyn/opt/anaconda3/lib/python3.8/site-packages (from requests-oauthlib<2,>=1.0.0->tweepy) (3.1.1)\n"
     ]
    }
   ],
   "source": [
    "# First I will install the python-twitter library in our terminal and import some libraries\n",
    "! pip install tweepy\n",
    "from tweepy import *\n",
    " \n",
    "import pandas as pd\n",
    "import csv\n",
    "import re \n",
    "import string"
   ]
  },
  {
   "cell_type": "code",
   "execution_count": 2,
   "id": "af5a80b0",
   "metadata": {},
   "outputs": [],
   "source": [
    "# Next I will import tweepy which will allow me to pull data from twitter\n",
    "import tweepy"
   ]
  },
  {
   "cell_type": "code",
   "execution_count": 3,
   "id": "7dd03234",
   "metadata": {},
   "outputs": [],
   "source": [
    "# I will set all my keys and secret accesses equal to their names so we can pull them \n",
    "# to authenticate twitter\n",
    "consumer_key = 'gMxLaq76p5tgkzHiqdOy5wFXG'\n",
    "consumer_secret = 't0FYt9IkVTbEcm9oiwSxs46czdbpd4Xqo4VhduYW7Xi9mmAxkZ'\n",
    "access_key= '1452766569357103111-sWwINQfobiVCj8Od6V18GfUVj8Q3eR'\n",
    "access_secret = 'BfTwQ5RBdUqxofyq3uE1eg3yhRikjE02JJqM6jCERfcfd'"
   ]
  },
  {
   "cell_type": "code",
   "execution_count": 4,
   "id": "85122e8a",
   "metadata": {},
   "outputs": [],
   "source": [
    "# Next I will Authenticate to Twitter\n",
    "auth = tweepy.OAuthHandler(consumer_key, consumer_secret)\n",
    "auth.set_access_token(access_key, access_secret)"
   ]
  },
  {
   "cell_type": "code",
   "execution_count": 5,
   "id": "f13beae1",
   "metadata": {},
   "outputs": [],
   "source": [
    "# I will create an api object bellow\n",
    "api = tweepy.API(auth)"
   ]
  },
  {
   "cell_type": "code",
   "execution_count": 6,
   "id": "6b454712",
   "metadata": {},
   "outputs": [
    {
     "name": "stdout",
     "output_type": "stream",
     "text": [
      "Authentication OK\n"
     ]
    }
   ],
   "source": [
    "# now I will authenticate my verification\n",
    "try:\n",
    "    api.verify_credentials()\n",
    "    print(\"Authentication OK\")\n",
    "except:\n",
    "    print(\"Error during authentication\")"
   ]
  },
  {
   "cell_type": "code",
   "execution_count": 7,
   "id": "f7ad2702",
   "metadata": {},
   "outputs": [
    {
     "name": "stdout",
     "output_type": "stream",
     "text": [
      "Ryan Kronberg:Officially \"official\" - now just to sign up for classes and a couple other lil things with Bellevue University and… https://t.co/rE87SLeJP5\n",
      "Kearney Hub:Attacks like those on Sandhills Publishing and Sinclair Broadcasting are becoming more prevalent, likely because mo… https://t.co/6FGCgUfdJL\n",
      "The Grand Island Independent:Attacks like those on Sandhills Publishing and Sinclair Broadcasting are becoming more prevalent, likely because mo… https://t.co/DJIRKkEqZV\n",
      "York News-Times:Attacks like those on Sandhills Publishing and Sinclair Broadcasting are becoming more prevalent, likely because mo… https://t.co/bASW0SfVK3\n",
      "Daily Nonpareil:Attacks like those on Sandhills Publishing and Sinclair Broadcasting are becoming more prevalent, likely because mo… https://t.co/0FDApaovkb\n",
      "Fremont Tribune:Attacks like those on Sandhills Publishing and Sinclair Broadcasting are becoming more prevalent, likely because mo… https://t.co/f9mB3fA5f5\n",
      "The North Platte Telegraph:Attacks like those on Sandhills Publishing and Sinclair Broadcasting are becoming more prevalent, likely because mo… https://t.co/5oAYpLaGcK\n",
      "Lexington Clipper-Herald:Attacks like those on Sandhills Publishing and Sinclair Broadcasting are becoming more prevalent, likely because mo… https://t.co/4pwj9I6Ifl\n",
      "Sioux City Journal:Attacks like those on Sandhills Publishing and Sinclair Broadcasting are becoming more prevalent, likely because mo… https://t.co/4HEtvQHMn7\n",
      "TheColumbusTelegram:Attacks like those on Sandhills Publishing and Sinclair Broadcasting are becoming more prevalent, likely because mo… https://t.co/Fll1a3iRjV\n",
      "Beatrice Daily Sun:Attacks like those on Sandhills Publishing and Sinclair Broadcasting are becoming more prevalent, likely because mo… https://t.co/zhqDJwKhlE\n",
      "Star-Herald:Attacks like those on Sandhills Publishing and Sinclair Broadcasting are becoming more prevalent, likely because mo… https://t.co/rydOiIj4SC\n",
      "Bellevue University:The obligatory First Day of School photo never goes out of style. \n",
      "\n",
      "Congratulations @_haley__nicole_ on pursuing yo… https://t.co/kHG97i0JnX\n",
      "Meghan May - Central Community College:Interested in transferring to Bellevue University after completing your Associates degree at CCC?\n",
      "You should talk w… https://t.co/tp4CZlTkaw\n",
      "Lincoln Journal Star:Attacks like those on Sandhills Publishing and Sinclair Broadcasting are becoming more prevalent, likely because mo… https://t.co/MIkTXxBihm\n"
     ]
    }
   ],
   "source": [
    "# Next I will use for to pull public tweets that are in English and contain \n",
    "# \"Bellevue University\" that also shows the users name and the full tweet.\n",
    "for tweet in api.search_tweets(q=\"Bellevue University\", lang=\"en\"):\n",
    "    print(f\"{tweet.user.name}:{tweet.text}\")"
   ]
  },
  {
   "cell_type": "code",
   "execution_count": 8,
   "id": "d8050e86",
   "metadata": {},
   "outputs": [
    {
     "name": "stdout",
     "output_type": "stream",
     "text": [
      "Takuya Kishi @猫好き循環器内科医:RT @J_Cardiol: Highlights 1/2\n",
      "✅This study revealed the data following pulmonary vein isolation with the successor laser balloon catheters.…\n",
      "jayhawkbb:RT @NickKnudsenUS: BREAKING: FDA Advisory Board voted 17-0 in favor of authorizing Pfizer's COVID-19 vaccine for children ages 5 to 11.\n",
      "\n",
      "Th…\n",
      "Pythonista Bot:RT @engineers_mind_: 33 FREE PUBLIC DATASET WEBSITES FOR DATA SCIENCE PROJECTS 2022 #datascience  #bigdata #machinelearning #python #iot ht…\n",
      "David Lamont:@Theydontwantwh1 @CrazyPills4Sure @GulpofMagpies @1JENSABA @MattWalshBlog @19 Yeah science reporting is ripe with m… https://t.co/6eKjm7zvJo\n",
      "Bk Justice in Policing #KHive💛 Vaccinated!✍🏻:RT @NickKnudsenUS: BREAKING: FDA Advisory Board voted 17-0 in favor of authorizing Pfizer's COVID-19 vaccine for children ages 5 to 11.\n",
      "\n",
      "Th…\n",
      "Yazmin:RT @Sauain: BEST Websites to get Dataset for your Next Machine Learning/ Data Science project 💯🚀\n",
      "\n",
      "👉 Kaggle\n",
      "👉 Google Public Datasets\n",
      "👉 UCI M…\n",
      "TATOR THOT:@rktayPhD Dude im trying to get back into data science but I cant remember a damn thing.. and my degree is entirely… https://t.co/k47hSAFMiD\n",
      "Louis O'Connor:7 Reasons to Learn Data Science\n",
      "1. Rapid Growth 2. Job Demand\n",
      "3. Salary 4. Work From Home\n",
      "5. Various Jobs Roles 6.… https://t.co/Ast402vtYv\n",
      "Linda F Aubel-Edick:RT @NickKnudsenUS: BREAKING: FDA Advisory Board voted 17-0 in favor of authorizing Pfizer's COVID-19 vaccine for children ages 5 to 11.\n",
      "\n",
      "Th…\n",
      "Fabricio Cavalcante:RT @DataScienceDojo: 💡 A guide to central limit theorem!\n",
      "Source: Data Science Learn\n",
      "\n",
      "#DataScience #BigData https://t.co/4suMCX5mYk\n",
      "Fabricio Cavalcante:RT @EnFuseSolution: #Infographic: Steps of a data science project lifecycle!\n",
      "\n",
      "#DataScience #Data #Analytics #BigData #Rstats #AI #Reactjs #…\n",
      "Fabricio Cavalcante:RT @2018Iptv: Top #MachineLearning Algorithms for Prediction\n",
      "https://t.co/zD7tQCnHHo\n",
      "\n",
      "#DeepLearning #AI #DigitalTransformation #BigData #An…\n",
      "Samay Patel:RT @NickKnudsenUS: BREAKING: FDA Advisory Board voted 17-0 in favor of authorizing Pfizer's COVID-19 vaccine for children ages 5 to 11.\n",
      "\n",
      "Th…\n"
     ]
    }
   ],
   "source": [
    "# Next I will use for to pull public tweets that are in English and contain \n",
    "# \"Data Science\" that also shows the users name and the full tweet.\n",
    "for tweet in api.search_tweets(q=\"Data Science\", lang=\"en\"):\n",
    "    print(f\"{tweet.user.name}:{tweet.text}\")"
   ]
  },
  {
   "cell_type": "code",
   "execution_count": 9,
   "id": "92a83267",
   "metadata": {},
   "outputs": [
    {
     "name": "stdout",
     "output_type": "stream",
     "text": [
      "Ryan Kronberg:Officially \"official\" - now just to sign up for classes and a couple other lil things with Bellevue University and… https://t.co/rE87SLeJP5\n",
      "Kearney Hub:Attacks like those on Sandhills Publishing and Sinclair Broadcasting are becoming more prevalent, likely because mo… https://t.co/6FGCgUfdJL\n",
      "The Grand Island Independent:Attacks like those on Sandhills Publishing and Sinclair Broadcasting are becoming more prevalent, likely because mo… https://t.co/DJIRKkEqZV\n",
      "York News-Times:Attacks like those on Sandhills Publishing and Sinclair Broadcasting are becoming more prevalent, likely because mo… https://t.co/bASW0SfVK3\n",
      "Daily Nonpareil:Attacks like those on Sandhills Publishing and Sinclair Broadcasting are becoming more prevalent, likely because mo… https://t.co/0FDApaovkb\n",
      "Fremont Tribune:Attacks like those on Sandhills Publishing and Sinclair Broadcasting are becoming more prevalent, likely because mo… https://t.co/f9mB3fA5f5\n",
      "The North Platte Telegraph:Attacks like those on Sandhills Publishing and Sinclair Broadcasting are becoming more prevalent, likely because mo… https://t.co/5oAYpLaGcK\n",
      "Lexington Clipper-Herald:Attacks like those on Sandhills Publishing and Sinclair Broadcasting are becoming more prevalent, likely because mo… https://t.co/4pwj9I6Ifl\n",
      "Sioux City Journal:Attacks like those on Sandhills Publishing and Sinclair Broadcasting are becoming more prevalent, likely because mo… https://t.co/4HEtvQHMn7\n",
      "TheColumbusTelegram:Attacks like those on Sandhills Publishing and Sinclair Broadcasting are becoming more prevalent, likely because mo… https://t.co/Fll1a3iRjV\n",
      "Beatrice Daily Sun:Attacks like those on Sandhills Publishing and Sinclair Broadcasting are becoming more prevalent, likely because mo… https://t.co/zhqDJwKhlE\n",
      "Star-Herald:Attacks like those on Sandhills Publishing and Sinclair Broadcasting are becoming more prevalent, likely because mo… https://t.co/rydOiIj4SC\n",
      "Bellevue University:The obligatory First Day of School photo never goes out of style. \n",
      "\n",
      "Congratulations @_haley__nicole_ on pursuing yo… https://t.co/kHG97i0JnX\n",
      "Meghan May - Central Community College:Interested in transferring to Bellevue University after completing your Associates degree at CCC?\n",
      "You should talk w… https://t.co/tp4CZlTkaw\n",
      "Lincoln Journal Star:Attacks like those on Sandhills Publishing and Sinclair Broadcasting are becoming more prevalent, likely because mo… https://t.co/MIkTXxBihm\n"
     ]
    }
   ],
   "source": [
    "# Next I will use for to pull public tweets that are in English and contain \n",
    "# \"Data Science\" and \"Bellevue University\" that also shows the users name and the full tweet.\n",
    "for tweet in api.search_tweets(q=\"Data Science\" and \"Bellevue University\", lang=\"en\"):\n",
    "    print(f\"{tweet.user.name}:{tweet.text}\")"
   ]
  },
  {
   "cell_type": "markdown",
   "id": "eb39a3bf",
   "metadata": {},
   "source": [
    "As seen above I have pulled data that contained \"Data Science\", \"Bellevue University\", or both together within tweets that are located on twitter. Which was done through the use of an API."
   ]
  },
  {
   "cell_type": "code",
   "execution_count": null,
   "id": "2fdbea5b",
   "metadata": {},
   "outputs": [],
   "source": []
  }
 ],
 "metadata": {
  "kernelspec": {
   "display_name": "Python 3",
   "language": "python",
   "name": "python3"
  },
  "language_info": {
   "codemirror_mode": {
    "name": "ipython",
    "version": 3
   },
   "file_extension": ".py",
   "mimetype": "text/x-python",
   "name": "python",
   "nbconvert_exporter": "python",
   "pygments_lexer": "ipython3",
   "version": "3.8.8"
  }
 },
 "nbformat": 4,
 "nbformat_minor": 5
}
