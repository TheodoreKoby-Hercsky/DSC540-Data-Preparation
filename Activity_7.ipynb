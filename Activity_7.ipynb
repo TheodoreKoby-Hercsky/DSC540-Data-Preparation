{
 "cells": [
  {
   "cell_type": "markdown",
   "id": "c22e7f07",
   "metadata": {},
   "source": [
    "## Activity 7: Reading Tabular Data from a Web Page and Creating DataFrames"
   ]
  },
  {
   "cell_type": "markdown",
   "id": "0677b6f2",
   "metadata": {},
   "source": [
    "### Step 1:  Open the page in a separate Chrome/Firefox tab and use something like an inspect element tool to view the source HTML and understand its structure.\n",
    "### Step 2: Read the page using bs4"
   ]
  },
  {
   "cell_type": "code",
   "execution_count": 1,
   "id": "94245009",
   "metadata": {},
   "outputs": [],
   "source": [
    "#First I will import BeautifulSoup and Pandas\n",
    "import pandas as pd\n",
    "from bs4 import BeautifulSoup"
   ]
  },
  {
   "cell_type": "code",
   "execution_count": 3,
   "id": "5d373573",
   "metadata": {},
   "outputs": [],
   "source": [
    "# First I will read the document and open it from the HTML \n",
    "# that I have saved in my files.\n",
    "\n",
    "fd = open(\"List of countries by GDP (nominal) - Wikipedia.htm\", \"r\")\n",
    "soup = BeautifulSoup(fd)\n",
    "fd.close()"
   ]
  },
  {
   "cell_type": "markdown",
   "id": "3925b682",
   "metadata": {},
   "source": [
    "### Step 3: Find the table structure you will need to deal with (how many tables there are?)"
   ]
  },
  {
   "cell_type": "code",
   "execution_count": 18,
   "id": "119a89e1",
   "metadata": {},
   "outputs": [
    {
     "name": "stdout",
     "output_type": "stream",
     "text": [
      "We have 9 tables\n"
     ]
    }
   ],
   "source": [
    "# I will use find_all to determine how many tables we have.\n",
    "\n",
    "tables = soup.find_all(\"table\")\n",
    "print(\"We have {} tables\".format(len(tables)))"
   ]
  },
  {
   "cell_type": "markdown",
   "id": "2453a3d3",
   "metadata": {},
   "source": [
    "## Step 4: Find the right table using bs4"
   ]
  },
  {
   "cell_type": "code",
   "execution_count": 19,
   "id": "7920baf8",
   "metadata": {
    "scrolled": true
   },
   "outputs": [
    {
     "name": "stdout",
     "output_type": "stream",
     "text": [
      "<class 'bs4.element.Tag'>\n"
     ]
    }
   ],
   "source": [
    "# I will use the find function to locate the right table\n",
    "# using the bs4\n",
    "table_right = soup.find(\"table\", {\"class\": '\"wikitable\"|}'})\n",
    "print(type(table_right))"
   ]
  },
  {
   "cell_type": "markdown",
   "id": "a9db14ac",
   "metadata": {},
   "source": [
    "## Step 5: Separate the source names and their corresponding data"
   ]
  },
  {
   "cell_type": "code",
   "execution_count": 21,
   "id": "39bad8bb",
   "metadata": {},
   "outputs": [
    {
     "name": "stdout",
     "output_type": "stream",
     "text": [
      "3\n"
     ]
    }
   ],
   "source": [
    "# First I will find the source by using the tbody and findall \n",
    "# function and setting the recursive to false\n",
    "source = table_right.tbody.findAll('tr', recursive=False)[0]\n",
    "source_amount = [td for td in source.findAll('td')]\n",
    "print(len(source_amount))"
   ]
  },
  {
   "cell_type": "code",
   "execution_count": 27,
   "id": "9c4f8041",
   "metadata": {},
   "outputs": [],
   "source": [
    "# Next I will separate the corresponding data for the tr and td.\n",
    "cor_data = table_right.tbody.findAll('tr', recursive=False)[1].findAll('td', recursive=False)"
   ]
  },
  {
   "cell_type": "code",
   "execution_count": 30,
   "id": "52183cc3",
   "metadata": {},
   "outputs": [
    {
     "data": {
      "text/plain": [
       "3"
      ]
     },
     "execution_count": 30,
     "metadata": {},
     "output_type": "execute_result"
    }
   ],
   "source": [
    "# I will find the length of the corresponding data by using a \n",
    "# for statement and use append and the findall function for the amount of tables\n",
    "table_right = []\n",
    "for td in data: table_right.append(td.findAll('table'))\n",
    "len(table_right)"
   ]
  },
  {
   "cell_type": "markdown",
   "id": "2ec10c26",
   "metadata": {},
   "source": [
    "### Step 6: Get the source names from the list of sources you have created "
   ]
  },
  {
   "cell_type": "code",
   "execution_count": 34,
   "id": "3213a74a",
   "metadata": {},
   "outputs": [
    {
     "name": "stdout",
     "output_type": "stream",
     "text": [
      "['International Monetary Fund', 'World Bank', 'United Nations']\n"
     ]
    }
   ],
   "source": [
    "# Next I will print the source names from the list of sources\n",
    "names = [source.findAll('a')[0].getText() for source in source_amount]\n",
    "print(names)"
   ]
  },
  {
   "cell_type": "markdown",
   "id": "cdae0141",
   "metadata": {},
   "source": [
    "### Step 7: Separate the header and data from the data that you separated before for the first source only , and then create a DataFrame using that"
   ]
  },
  {
   "cell_type": "code",
   "execution_count": 35,
   "id": "5ea9a03d",
   "metadata": {},
   "outputs": [
    {
     "data": {
      "text/plain": [
       "['Rank', 'Country', 'GDP(US$MM)']"
      ]
     },
     "execution_count": 35,
     "metadata": {},
     "output_type": "execute_result"
    }
   ],
   "source": [
    "# First I will separate the headers by using the gettext \n",
    "# and strip function in a for statement\n",
    "header = [th.getText().strip() for th in table_right[0][0].findAll('thead')[0].findAll('th')]\n",
    "header"
   ]
  },
  {
   "cell_type": "code",
   "execution_count": 38,
   "id": "f37f16f8",
   "metadata": {
    "scrolled": true
   },
   "outputs": [
    {
     "data": {
      "text/html": [
       "<div>\n",
       "<style scoped>\n",
       "    .dataframe tbody tr th:only-of-type {\n",
       "        vertical-align: middle;\n",
       "    }\n",
       "\n",
       "    .dataframe tbody tr th {\n",
       "        vertical-align: top;\n",
       "    }\n",
       "\n",
       "    .dataframe thead th {\n",
       "        text-align: right;\n",
       "    }\n",
       "</style>\n",
       "<table border=\"1\" class=\"dataframe\">\n",
       "  <thead>\n",
       "    <tr style=\"text-align: right;\">\n",
       "      <th></th>\n",
       "      <th>Rank</th>\n",
       "      <th>Country</th>\n",
       "      <th>GDP(US$MM)</th>\n",
       "    </tr>\n",
       "  </thead>\n",
       "  <tbody>\n",
       "    <tr>\n",
       "      <th>0</th>\n",
       "      <td>1</td>\n",
       "      <td>United States</td>\n",
       "      <td>19,390,600</td>\n",
       "    </tr>\n",
       "    <tr>\n",
       "      <th>1</th>\n",
       "      <td>2</td>\n",
       "      <td>China[n 1]</td>\n",
       "      <td>12,014,610</td>\n",
       "    </tr>\n",
       "    <tr>\n",
       "      <th>2</th>\n",
       "      <td>3</td>\n",
       "      <td>Japan</td>\n",
       "      <td>4,872,135</td>\n",
       "    </tr>\n",
       "    <tr>\n",
       "      <th>3</th>\n",
       "      <td>4</td>\n",
       "      <td>Germany</td>\n",
       "      <td>3,684,816</td>\n",
       "    </tr>\n",
       "    <tr>\n",
       "      <th>4</th>\n",
       "      <td>5</td>\n",
       "      <td>United Kingdom</td>\n",
       "      <td>2,624,529</td>\n",
       "    </tr>\n",
       "    <tr>\n",
       "      <th>...</th>\n",
       "      <td>...</td>\n",
       "      <td>...</td>\n",
       "      <td>...</td>\n",
       "    </tr>\n",
       "    <tr>\n",
       "      <th>186</th>\n",
       "      <td>186</td>\n",
       "      <td>Federated States of Micronesia</td>\n",
       "      <td>329</td>\n",
       "    </tr>\n",
       "    <tr>\n",
       "      <th>187</th>\n",
       "      <td>187</td>\n",
       "      <td>Palau</td>\n",
       "      <td>321</td>\n",
       "    </tr>\n",
       "    <tr>\n",
       "      <th>188</th>\n",
       "      <td>188</td>\n",
       "      <td>Marshall Islands</td>\n",
       "      <td>199</td>\n",
       "    </tr>\n",
       "    <tr>\n",
       "      <th>189</th>\n",
       "      <td>189</td>\n",
       "      <td>Kiribati</td>\n",
       "      <td>186</td>\n",
       "    </tr>\n",
       "    <tr>\n",
       "      <th>190</th>\n",
       "      <td>190</td>\n",
       "      <td>Tuvalu</td>\n",
       "      <td>40</td>\n",
       "    </tr>\n",
       "  </tbody>\n",
       "</table>\n",
       "<p>191 rows × 3 columns</p>\n",
       "</div>"
      ],
      "text/plain": [
       "    Rank                         Country  GDP(US$MM)\n",
       "0      1                   United States  19,390,600\n",
       "1      2                      China[n 1]  12,014,610\n",
       "2      3                           Japan   4,872,135\n",
       "3      4                         Germany   3,684,816\n",
       "4      5                  United Kingdom   2,624,529\n",
       "..   ...                             ...         ...\n",
       "186  186  Federated States of Micronesia         329\n",
       "187  187                           Palau         321\n",
       "188  188                Marshall Islands         199\n",
       "189  189                        Kiribati         186\n",
       "190  190                          Tuvalu          40\n",
       "\n",
       "[191 rows x 3 columns]"
      ]
     },
     "execution_count": 38,
     "metadata": {},
     "output_type": "execute_result"
    }
   ],
   "source": [
    "# Next I will find the rows and strip them and then create a data frame\n",
    "# by using pandas pd for the row data and header\n",
    "row = table_right[0][0].findAll('tbody')[0].findAll('tr')[1:]\n",
    "row_data = [[td.get_text().strip() for td in tr.findAll('td')] for tr in row]\n",
    "Data_Frame = pd.DataFrame(row_data, columns=header)\n",
    "Data_Frame"
   ]
  },
  {
   "cell_type": "markdown",
   "id": "4b8922b6",
   "metadata": {},
   "source": [
    "### Step 8: Repeat the last task for the other two data sources"
   ]
  },
  {
   "cell_type": "code",
   "execution_count": 42,
   "id": "0717a525",
   "metadata": {
    "scrolled": true
   },
   "outputs": [
    {
     "data": {
      "text/plain": [
       "['Rank', 'Country', 'GDP(US$MM)']"
      ]
     },
     "execution_count": 42,
     "metadata": {},
     "output_type": "execute_result"
    }
   ],
   "source": [
    "# Next I will separate the headers by using the gettext \n",
    "# and strip function in a for statement for the second header\n",
    "header_two = [th.getText().strip() for th in table_right[1][0].findAll('thead')[0].findAll('th')]\n",
    "header_two"
   ]
  },
  {
   "cell_type": "code",
   "execution_count": 43,
   "id": "b21a19c0",
   "metadata": {},
   "outputs": [],
   "source": [
    "# Then I will find the rows and strip them and \n",
    "row_two = table_right[1][0].findAll('tbody')[0].findAll('tr')[1:]"
   ]
  },
  {
   "cell_type": "code",
   "execution_count": 44,
   "id": "543f0b4c",
   "metadata": {},
   "outputs": [],
   "source": [
    "# Next I will define a function that uses the gettext and strip \n",
    "# functions if i==0 and elif i==1 or else\n",
    "def text_findings(i, td):\n",
    "    if i == 0:\n",
    "        return td.getText().strip()\n",
    "    elif i == 1:\n",
    "        return td.getText().strip()\n",
    "    else:\n",
    "        index = td.text.find(\"♠\")\n",
    "        return td.text[index+1:].strip()"
   ]
  },
  {
   "cell_type": "code",
   "execution_count": 45,
   "id": "0a036d0c",
   "metadata": {},
   "outputs": [
    {
     "data": {
      "text/html": [
       "<div>\n",
       "<style scoped>\n",
       "    .dataframe tbody tr th:only-of-type {\n",
       "        vertical-align: middle;\n",
       "    }\n",
       "\n",
       "    .dataframe tbody tr th {\n",
       "        vertical-align: top;\n",
       "    }\n",
       "\n",
       "    .dataframe thead th {\n",
       "        text-align: right;\n",
       "    }\n",
       "</style>\n",
       "<table border=\"1\" class=\"dataframe\">\n",
       "  <thead>\n",
       "    <tr style=\"text-align: right;\">\n",
       "      <th></th>\n",
       "      <th>Rank</th>\n",
       "      <th>Country</th>\n",
       "      <th>GDP(US$MM)</th>\n",
       "    </tr>\n",
       "  </thead>\n",
       "  <tbody>\n",
       "    <tr>\n",
       "      <th>0</th>\n",
       "      <td>1</td>\n",
       "      <td>United States</td>\n",
       "      <td>18,624,475</td>\n",
       "    </tr>\n",
       "    <tr>\n",
       "      <th>1</th>\n",
       "      <td>2</td>\n",
       "      <td>China[n 4]</td>\n",
       "      <td>11,218,281</td>\n",
       "    </tr>\n",
       "    <tr>\n",
       "      <th>2</th>\n",
       "      <td>3</td>\n",
       "      <td>Japan</td>\n",
       "      <td>4,936,211</td>\n",
       "    </tr>\n",
       "    <tr>\n",
       "      <th>3</th>\n",
       "      <td>4</td>\n",
       "      <td>Germany</td>\n",
       "      <td>3,477,796</td>\n",
       "    </tr>\n",
       "    <tr>\n",
       "      <th>4</th>\n",
       "      <td>5</td>\n",
       "      <td>United Kingdom</td>\n",
       "      <td>2,647,898</td>\n",
       "    </tr>\n",
       "    <tr>\n",
       "      <th>...</th>\n",
       "      <td>...</td>\n",
       "      <td>...</td>\n",
       "      <td>...</td>\n",
       "    </tr>\n",
       "    <tr>\n",
       "      <th>206</th>\n",
       "      <td>207</td>\n",
       "      <td>Marshall Islands</td>\n",
       "      <td>209</td>\n",
       "    </tr>\n",
       "    <tr>\n",
       "      <th>207</th>\n",
       "      <td>208</td>\n",
       "      <td>Nauru</td>\n",
       "      <td>182</td>\n",
       "    </tr>\n",
       "    <tr>\n",
       "      <th>208</th>\n",
       "      <td>209</td>\n",
       "      <td>Kiribati</td>\n",
       "      <td>180</td>\n",
       "    </tr>\n",
       "    <tr>\n",
       "      <th>209</th>\n",
       "      <td>210</td>\n",
       "      <td>Montserrat</td>\n",
       "      <td>63</td>\n",
       "    </tr>\n",
       "    <tr>\n",
       "      <th>210</th>\n",
       "      <td>211</td>\n",
       "      <td>Tuvalu</td>\n",
       "      <td>38</td>\n",
       "    </tr>\n",
       "  </tbody>\n",
       "</table>\n",
       "<p>211 rows × 3 columns</p>\n",
       "</div>"
      ],
      "text/plain": [
       "    Rank           Country  GDP(US$MM)\n",
       "0      1     United States  18,624,475\n",
       "1      2        China[n 4]  11,218,281\n",
       "2      3             Japan   4,936,211\n",
       "3      4           Germany   3,477,796\n",
       "4      5    United Kingdom   2,647,898\n",
       "..   ...               ...         ...\n",
       "206  207  Marshall Islands         209\n",
       "207  208             Nauru         182\n",
       "208  209          Kiribati         180\n",
       "209  210        Montserrat          63\n",
       "210  211            Tuvalu          38\n",
       "\n",
       "[211 rows x 3 columns]"
      ]
     },
     "execution_count": 45,
     "metadata": {},
     "output_type": "execute_result"
    }
   ],
   "source": [
    "#Then create a data frame by using pandas pd for the row data \n",
    "# and header for the second data set\n",
    "row_two_data = [[text_findings(i, td) for i, td in enumerate(tr.findAll('td'))] for tr in row_two]\n",
    "Data_Frame_Two = pd.DataFrame(row_two_data, columns=header_two)\n",
    "Data_Frame_Two"
   ]
  },
  {
   "cell_type": "code",
   "execution_count": 46,
   "id": "6502096d",
   "metadata": {},
   "outputs": [
    {
     "data": {
      "text/plain": [
       "['Rank', 'Country', 'GDP(US$MM)']"
      ]
     },
     "execution_count": 46,
     "metadata": {},
     "output_type": "execute_result"
    }
   ],
   "source": [
    "# Next I will separate the headers by using the gettext \n",
    "# and strip function in a for statement\n",
    "header_three = [th.getText().strip() for th in table_right[2][0].findAll('thead')[0].findAll('th')]\n",
    "header_three"
   ]
  },
  {
   "cell_type": "code",
   "execution_count": 47,
   "id": "c3cf8cfb",
   "metadata": {},
   "outputs": [
    {
     "data": {
      "text/html": [
       "<div>\n",
       "<style scoped>\n",
       "    .dataframe tbody tr th:only-of-type {\n",
       "        vertical-align: middle;\n",
       "    }\n",
       "\n",
       "    .dataframe tbody tr th {\n",
       "        vertical-align: top;\n",
       "    }\n",
       "\n",
       "    .dataframe thead th {\n",
       "        text-align: right;\n",
       "    }\n",
       "</style>\n",
       "<table border=\"1\" class=\"dataframe\">\n",
       "  <thead>\n",
       "    <tr style=\"text-align: right;\">\n",
       "      <th></th>\n",
       "      <th>Rank</th>\n",
       "      <th>Country</th>\n",
       "      <th>GDP(US$MM)</th>\n",
       "    </tr>\n",
       "  </thead>\n",
       "  <tbody>\n",
       "    <tr>\n",
       "      <th>0</th>\n",
       "      <td>1</td>\n",
       "      <td>United States</td>\n",
       "      <td>18,624,475</td>\n",
       "    </tr>\n",
       "    <tr>\n",
       "      <th>1</th>\n",
       "      <td>2</td>\n",
       "      <td>China[n 4]</td>\n",
       "      <td>11,218,281</td>\n",
       "    </tr>\n",
       "    <tr>\n",
       "      <th>2</th>\n",
       "      <td>3</td>\n",
       "      <td>Japan</td>\n",
       "      <td>4,936,211</td>\n",
       "    </tr>\n",
       "    <tr>\n",
       "      <th>3</th>\n",
       "      <td>4</td>\n",
       "      <td>Germany</td>\n",
       "      <td>3,477,796</td>\n",
       "    </tr>\n",
       "    <tr>\n",
       "      <th>4</th>\n",
       "      <td>5</td>\n",
       "      <td>United Kingdom</td>\n",
       "      <td>2,647,898</td>\n",
       "    </tr>\n",
       "    <tr>\n",
       "      <th>...</th>\n",
       "      <td>...</td>\n",
       "      <td>...</td>\n",
       "      <td>...</td>\n",
       "    </tr>\n",
       "    <tr>\n",
       "      <th>206</th>\n",
       "      <td>207</td>\n",
       "      <td>Marshall Islands</td>\n",
       "      <td>209</td>\n",
       "    </tr>\n",
       "    <tr>\n",
       "      <th>207</th>\n",
       "      <td>208</td>\n",
       "      <td>Nauru</td>\n",
       "      <td>182</td>\n",
       "    </tr>\n",
       "    <tr>\n",
       "      <th>208</th>\n",
       "      <td>209</td>\n",
       "      <td>Kiribati</td>\n",
       "      <td>180</td>\n",
       "    </tr>\n",
       "    <tr>\n",
       "      <th>209</th>\n",
       "      <td>210</td>\n",
       "      <td>Montserrat</td>\n",
       "      <td>63</td>\n",
       "    </tr>\n",
       "    <tr>\n",
       "      <th>210</th>\n",
       "      <td>211</td>\n",
       "      <td>Tuvalu</td>\n",
       "      <td>38</td>\n",
       "    </tr>\n",
       "  </tbody>\n",
       "</table>\n",
       "<p>211 rows × 3 columns</p>\n",
       "</div>"
      ],
      "text/plain": [
       "    Rank           Country  GDP(US$MM)\n",
       "0      1     United States  18,624,475\n",
       "1      2        China[n 4]  11,218,281\n",
       "2      3             Japan   4,936,211\n",
       "3      4           Germany   3,477,796\n",
       "4      5    United Kingdom   2,647,898\n",
       "..   ...               ...         ...\n",
       "206  207  Marshall Islands         209\n",
       "207  208             Nauru         182\n",
       "208  209          Kiribati         180\n",
       "209  210        Montserrat          63\n",
       "210  211            Tuvalu          38\n",
       "\n",
       "[211 rows x 3 columns]"
      ]
     },
     "execution_count": 47,
     "metadata": {},
     "output_type": "execute_result"
    }
   ],
   "source": [
    "# Then I will find the rows and strip them and then create a data \n",
    "# frame by using pandas pd for the row data and header\n",
    "row_three = table_right[2][0].findAll('tbody')[0].findAll('tr')[1:]\n",
    "row_three_data = [[text_findings(i, td) for i, td in enumerate(tr.findAll('td'))] for tr in row_three]\n",
    "Data_Frame_Three = pd.DataFrame(row_two_data, columns=header_three)\n",
    "Data_Frame_Three"
   ]
  },
  {
   "cell_type": "code",
   "execution_count": null,
   "id": "1efcb344",
   "metadata": {},
   "outputs": [],
   "source": []
  }
 ],
 "metadata": {
  "kernelspec": {
   "display_name": "Python 3",
   "language": "python",
   "name": "python3"
  },
  "language_info": {
   "codemirror_mode": {
    "name": "ipython",
    "version": 3
   },
   "file_extension": ".py",
   "mimetype": "text/x-python",
   "name": "python",
   "nbconvert_exporter": "python",
   "pygments_lexer": "ipython3",
   "version": "3.8.8"
  }
 },
 "nbformat": 4,
 "nbformat_minor": 5
}
