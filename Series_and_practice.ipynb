{
 "cells": [
  {
   "cell_type": "markdown",
   "id": "44dd149e",
   "metadata": {},
   "source": [
    "## Create a series and practice basic arithmetic steps"
   ]
  },
  {
   "cell_type": "markdown",
   "id": "f2920880",
   "metadata": {},
   "source": [
    "## Series One"
   ]
  },
  {
   "cell_type": "code",
   "execution_count": 23,
   "id": "9d31872a",
   "metadata": {},
   "outputs": [
    {
     "name": "stdout",
     "output_type": "stream",
     "text": [
      "a    7.3\n",
      "c   -2.5\n",
      "d    3.4\n",
      "e    1.5\n",
      "dtype: float64\n"
     ]
    }
   ],
   "source": [
    "# First I will import my needed libraries\n",
    "\n",
    "import pandas as pd\n",
    "import numpy as np\n",
    "\n",
    "# Next I will create my first series by using numpy array \n",
    "# and panda series\n",
    "\n",
    "data = np.array([7.3, -2.5, 3.4, 1.5])\n",
    "series_one = pd.Series(data,index=['a', 'c', 'd', 'e'])\n",
    "print(series_one)"
   ]
  },
  {
   "cell_type": "markdown",
   "id": "c9209c8b",
   "metadata": {},
   "source": [
    "## Series Two"
   ]
  },
  {
   "cell_type": "code",
   "execution_count": 22,
   "id": "d2fd457c",
   "metadata": {},
   "outputs": [
    {
     "name": "stdout",
     "output_type": "stream",
     "text": [
      "a   -2.1\n",
      "c    3.6\n",
      "e   -1.5\n",
      "f    4.0\n",
      "g    3.1\n",
      "dtype: float64\n"
     ]
    }
   ],
   "source": [
    "# Now I will create my second series by using numpy array \n",
    "# and panda series\n",
    "\n",
    "data_two = np.array([-2.1, 3.6, -1.5, 4, 3.1])\n",
    "series_two = pd.Series(data_two,index=['a', 'c', 'e', 'f', 'g'])\n",
    "print(series_two)"
   ]
  },
  {
   "cell_type": "markdown",
   "id": "4f3508f0",
   "metadata": {},
   "source": [
    "## Add Series 1 and Series 2 together and print the results"
   ]
  },
  {
   "cell_type": "code",
   "execution_count": 27,
   "id": "705b178c",
   "metadata": {},
   "outputs": [
    {
     "data": {
      "text/plain": [
       "a    5.2\n",
       "c    1.1\n",
       "d    3.4\n",
       "e    0.0\n",
       "f    4.0\n",
       "g    3.1\n",
       "dtype: float64"
      ]
     },
     "execution_count": 27,
     "metadata": {},
     "output_type": "execute_result"
    }
   ],
   "source": [
    "# I will use the add function to add series one to series two \n",
    "# and fill values with zero if nothing is present\n",
    "series_one.add(series_two, fill_value=0) "
   ]
  },
  {
   "cell_type": "markdown",
   "id": "9ed03c68",
   "metadata": {},
   "source": [
    "## Subtract Series 1 from Series 2 and print the results"
   ]
  },
  {
   "cell_type": "code",
   "execution_count": 29,
   "id": "4cca2e79",
   "metadata": {},
   "outputs": [
    {
     "data": {
      "text/plain": [
       "a    9.4\n",
       "c   -6.1\n",
       "d    3.4\n",
       "e    3.0\n",
       "f    4.0\n",
       "g    3.1\n",
       "dtype: float64"
      ]
     },
     "execution_count": 29,
     "metadata": {},
     "output_type": "execute_result"
    }
   ],
   "source": [
    "# I will subtract series one from series two and use the \n",
    "# function fillna to fill any missing data\n",
    "(series_one - series_two).fillna(series_one).fillna(series_two)"
   ]
  },
  {
   "cell_type": "code",
   "execution_count": null,
   "id": "a9b9b521",
   "metadata": {},
   "outputs": [],
   "source": []
  }
 ],
 "metadata": {
  "kernelspec": {
   "display_name": "Python 3",
   "language": "python",
   "name": "python3"
  },
  "language_info": {
   "codemirror_mode": {
    "name": "ipython",
    "version": 3
   },
   "file_extension": ".py",
   "mimetype": "text/x-python",
   "name": "python",
   "nbconvert_exporter": "python",
   "pygments_lexer": "ipython3",
   "version": "3.8.8"
  }
 },
 "nbformat": 4,
 "nbformat_minor": 5
}
