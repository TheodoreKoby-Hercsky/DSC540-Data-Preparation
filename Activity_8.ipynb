{
 "cells": [
  {
   "cell_type": "markdown",
   "id": "7b8f3aec",
   "metadata": {},
   "source": [
    "## Activity 8: Handling Outliers and Missing Data"
   ]
  },
  {
   "cell_type": "markdown",
   "id": "4c900c03",
   "metadata": {},
   "source": [
    "### Step one: Read the Visit_data.csv file"
   ]
  },
  {
   "cell_type": "code",
   "execution_count": 1,
   "id": "35f7c42e",
   "metadata": {},
   "outputs": [],
   "source": [
    "# First I will import matplotlib, numpy, and pandas\n",
    "import numpy as np\n",
    "import pandas as pd\n",
    "import matplotlib.pyplot as plt\n",
    "%matplotlib inline"
   ]
  },
  {
   "cell_type": "code",
   "execution_count": 2,
   "id": "781c0d2f",
   "metadata": {},
   "outputs": [
    {
     "data": {
      "text/html": [
       "<div>\n",
       "<style scoped>\n",
       "    .dataframe tbody tr th:only-of-type {\n",
       "        vertical-align: middle;\n",
       "    }\n",
       "\n",
       "    .dataframe tbody tr th {\n",
       "        vertical-align: top;\n",
       "    }\n",
       "\n",
       "    .dataframe thead th {\n",
       "        text-align: right;\n",
       "    }\n",
       "</style>\n",
       "<table border=\"1\" class=\"dataframe\">\n",
       "  <thead>\n",
       "    <tr style=\"text-align: right;\">\n",
       "      <th></th>\n",
       "      <th>id</th>\n",
       "      <th>first_name</th>\n",
       "      <th>last_name</th>\n",
       "      <th>email</th>\n",
       "      <th>gender</th>\n",
       "      <th>ip_address</th>\n",
       "      <th>visit</th>\n",
       "    </tr>\n",
       "  </thead>\n",
       "  <tbody>\n",
       "    <tr>\n",
       "      <th>0</th>\n",
       "      <td>1</td>\n",
       "      <td>Sonny</td>\n",
       "      <td>Dahl</td>\n",
       "      <td>sdahl0@mysql.com</td>\n",
       "      <td>Male</td>\n",
       "      <td>135.36.96.183</td>\n",
       "      <td>1225.0</td>\n",
       "    </tr>\n",
       "    <tr>\n",
       "      <th>1</th>\n",
       "      <td>2</td>\n",
       "      <td>NaN</td>\n",
       "      <td>NaN</td>\n",
       "      <td>dhoovart1@hud.gov</td>\n",
       "      <td>NaN</td>\n",
       "      <td>237.165.194.143</td>\n",
       "      <td>919.0</td>\n",
       "    </tr>\n",
       "    <tr>\n",
       "      <th>2</th>\n",
       "      <td>3</td>\n",
       "      <td>Gar</td>\n",
       "      <td>Armal</td>\n",
       "      <td>garmal2@technorati.com</td>\n",
       "      <td>NaN</td>\n",
       "      <td>166.43.137.224</td>\n",
       "      <td>271.0</td>\n",
       "    </tr>\n",
       "    <tr>\n",
       "      <th>3</th>\n",
       "      <td>4</td>\n",
       "      <td>Chiarra</td>\n",
       "      <td>Nulty</td>\n",
       "      <td>cnulty3@newyorker.com</td>\n",
       "      <td>NaN</td>\n",
       "      <td>139.98.137.108</td>\n",
       "      <td>1002.0</td>\n",
       "    </tr>\n",
       "    <tr>\n",
       "      <th>4</th>\n",
       "      <td>5</td>\n",
       "      <td>NaN</td>\n",
       "      <td>NaN</td>\n",
       "      <td>sleaver4@elegantthemes.com</td>\n",
       "      <td>NaN</td>\n",
       "      <td>46.117.117.27</td>\n",
       "      <td>2434.0</td>\n",
       "    </tr>\n",
       "    <tr>\n",
       "      <th>...</th>\n",
       "      <td>...</td>\n",
       "      <td>...</td>\n",
       "      <td>...</td>\n",
       "      <td>...</td>\n",
       "      <td>...</td>\n",
       "      <td>...</td>\n",
       "      <td>...</td>\n",
       "    </tr>\n",
       "    <tr>\n",
       "      <th>995</th>\n",
       "      <td>996</td>\n",
       "      <td>Averil</td>\n",
       "      <td>Pickover</td>\n",
       "      <td>apickoverrn@vk.com</td>\n",
       "      <td>Male</td>\n",
       "      <td>10.45.16.167</td>\n",
       "      <td>1305.0</td>\n",
       "    </tr>\n",
       "    <tr>\n",
       "      <th>996</th>\n",
       "      <td>997</td>\n",
       "      <td>Walton</td>\n",
       "      <td>Hallewell</td>\n",
       "      <td>whallewellro@nasa.gov</td>\n",
       "      <td>NaN</td>\n",
       "      <td>231.224.238.232</td>\n",
       "      <td>2531.0</td>\n",
       "    </tr>\n",
       "    <tr>\n",
       "      <th>997</th>\n",
       "      <td>998</td>\n",
       "      <td>NaN</td>\n",
       "      <td>NaN</td>\n",
       "      <td>ggallamorerp@meetup.com</td>\n",
       "      <td>Female</td>\n",
       "      <td>118.65.94.40</td>\n",
       "      <td>NaN</td>\n",
       "    </tr>\n",
       "    <tr>\n",
       "      <th>998</th>\n",
       "      <td>999</td>\n",
       "      <td>Sapphira</td>\n",
       "      <td>Terron</td>\n",
       "      <td>sterronrq@wordpress.org</td>\n",
       "      <td>NaN</td>\n",
       "      <td>24.77.234.208</td>\n",
       "      <td>250.0</td>\n",
       "    </tr>\n",
       "    <tr>\n",
       "      <th>999</th>\n",
       "      <td>1000</td>\n",
       "      <td>NaN</td>\n",
       "      <td>NaN</td>\n",
       "      <td>jandreuzzirr@paginegialle.it</td>\n",
       "      <td>Male</td>\n",
       "      <td>211.136.66.144</td>\n",
       "      <td>2389.0</td>\n",
       "    </tr>\n",
       "  </tbody>\n",
       "</table>\n",
       "<p>1000 rows × 7 columns</p>\n",
       "</div>"
      ],
      "text/plain": [
       "       id first_name  last_name                         email  gender  \\\n",
       "0       1      Sonny       Dahl              sdahl0@mysql.com    Male   \n",
       "1       2        NaN        NaN             dhoovart1@hud.gov     NaN   \n",
       "2       3        Gar      Armal        garmal2@technorati.com     NaN   \n",
       "3       4    Chiarra      Nulty         cnulty3@newyorker.com     NaN   \n",
       "4       5        NaN        NaN    sleaver4@elegantthemes.com     NaN   \n",
       "..    ...        ...        ...                           ...     ...   \n",
       "995   996     Averil   Pickover            apickoverrn@vk.com    Male   \n",
       "996   997     Walton  Hallewell         whallewellro@nasa.gov     NaN   \n",
       "997   998        NaN        NaN       ggallamorerp@meetup.com  Female   \n",
       "998   999   Sapphira     Terron       sterronrq@wordpress.org     NaN   \n",
       "999  1000        NaN        NaN  jandreuzzirr@paginegialle.it    Male   \n",
       "\n",
       "          ip_address   visit  \n",
       "0      135.36.96.183  1225.0  \n",
       "1    237.165.194.143   919.0  \n",
       "2     166.43.137.224   271.0  \n",
       "3     139.98.137.108  1002.0  \n",
       "4      46.117.117.27  2434.0  \n",
       "..               ...     ...  \n",
       "995     10.45.16.167  1305.0  \n",
       "996  231.224.238.232  2531.0  \n",
       "997     118.65.94.40     NaN  \n",
       "998    24.77.234.208   250.0  \n",
       "999   211.136.66.144  2389.0  \n",
       "\n",
       "[1000 rows x 7 columns]"
      ]
     },
     "execution_count": 2,
     "metadata": {},
     "output_type": "execute_result"
    }
   ],
   "source": [
    "# Next I will import the data and view it\n",
    "Visit_data = pd.read_csv(\"visit_data.csv\")\n",
    "Visit_data"
   ]
  },
  {
   "cell_type": "markdown",
   "id": "f3d66629",
   "metadata": {},
   "source": [
    "### Step two: Check for duplicates"
   ]
  },
  {
   "cell_type": "code",
   "execution_count": 4,
   "id": "e5f8db29",
   "metadata": {},
   "outputs": [
    {
     "name": "stdout",
     "output_type": "stream",
     "text": [
      "Is the 'id' duplictaed: False\n",
      "Is the 'First name' duplictaed: True\n",
      "Is the 'Last name' duplictaed: True\n",
      "Is the 'Email' duplictaed: False\n",
      "Is the 'ip_address' duplictaed: False\n"
     ]
    }
   ],
   "source": [
    "# I will search and see if any of the columns have duplicate data \n",
    "# by using the format and duplicate function to state if the request is true or false\n",
    "print(\"Is the 'id' duplictaed: {}\".format(any(Visit_data.id.duplicated())))\n",
    "print(\"Is the 'First name' duplictaed: {}\".format(any(Visit_data.first_name.duplicated())))\n",
    "print(\"Is the 'Last name' duplictaed: {}\".format(any(Visit_data.last_name.duplicated())))\n",
    "print(\"Is the 'Email' duplictaed: {}\".format(any(Visit_data.email.duplicated())))\n",
    "print(\"Is the 'ip_address' duplictaed: {}\".format(any(Visit_data.ip_address.duplicated())))"
   ]
  },
  {
   "cell_type": "markdown",
   "id": "cedb9878",
   "metadata": {},
   "source": [
    "### Step three: Check if any essential column contains NaN. "
   ]
  },
  {
   "cell_type": "code",
   "execution_count": 11,
   "id": "e25dc9e5",
   "metadata": {},
   "outputs": [
    {
     "name": "stdout",
     "output_type": "stream",
     "text": [
      "Does the 'id'column contains NaN: False \n",
      "Does the 'Email' column contains NaN: False \n",
      "Does the 'IP Address' column contains NaN: False \n",
      "Does the 'Visit' column contains NaN: True \n"
     ]
    }
   ],
   "source": [
    "# Next I will check and see if any of the essential columns conatin NaNs\n",
    "# by using the % operator\n",
    "print(\"Does the 'id'column contains NaN: %r \" % Visit_data.email.isnull().values.any())\n",
    "print(\"Does the 'Email' column contains NaN: %r \" % Visit_data.email.isnull().values.any())\n",
    "print(\"Does the 'IP Address' column contains NaN: %r \" % Visit_data.ip_address.isnull().values.any())\n",
    "print(\"Does the 'Visit' column contains NaN: %r \" % Visit_data.visit.isnull().values.any())"
   ]
  },
  {
   "cell_type": "markdown",
   "id": "461e29a7",
   "metadata": {},
   "source": [
    "### Step four: Get rid of the outliers."
   ]
  },
  {
   "cell_type": "code",
   "execution_count": 12,
   "id": "51e0fd3b",
   "metadata": {},
   "outputs": [],
   "source": [
    "# I will use the shape function on the data frame to get rid of \n",
    "# outliers and create a new data frame\n",
    "orig_data = Visit_data.shape\n",
    "updated_Visit_data = Visit_data[np.isfinite(Visit_data['visit'])]\n",
    "new_data = updated_Visit_data.shape"
   ]
  },
  {
   "cell_type": "markdown",
   "id": "a3277216",
   "metadata": {},
   "source": [
    "### Step five: Report the size difference"
   ]
  },
  {
   "cell_type": "code",
   "execution_count": 16,
   "id": "339c1d77",
   "metadata": {},
   "outputs": [
    {
     "name": "stdout",
     "output_type": "stream",
     "text": [
      "The original data was: 1000 rows\n",
      "The new data is: 974 rows\n"
     ]
    }
   ],
   "source": [
    "# Next I will print the size difference for the original data and \n",
    "# new data after the outliers have been removed by using the format\n",
    "# function and prev and after. \n",
    "print(\"The original data was: {prev[0]} rows\".format(prev=orig_data))\n",
    "print(\"The new data is: {after[0]} rows\".format(after=new_data))"
   ]
  },
  {
   "cell_type": "markdown",
   "id": "81858647",
   "metadata": {},
   "source": [
    "### Step six: Create a box plot to check for outliers"
   ]
  },
  {
   "cell_type": "code",
   "execution_count": 18,
   "id": "29d47f90",
   "metadata": {},
   "outputs": [
    {
     "data": {
      "text/plain": [
       "{'whiskers': [<matplotlib.lines.Line2D at 0x7fe720443a00>,\n",
       "  <matplotlib.lines.Line2D at 0x7fe720443d60>],\n",
       " 'caps': [<matplotlib.lines.Line2D at 0x7fe720453130>,\n",
       "  <matplotlib.lines.Line2D at 0x7fe720453490>],\n",
       " 'boxes': [<matplotlib.lines.Line2D at 0x7fe7204436a0>],\n",
       " 'medians': [<matplotlib.lines.Line2D at 0x7fe7204537f0>],\n",
       " 'fliers': [<matplotlib.lines.Line2D at 0x7fe720453b50>],\n",
       " 'means': []}"
      ]
     },
     "execution_count": 18,
     "metadata": {},
     "output_type": "execute_result"
    },
    {
     "data": {
      "image/png": "[encoded data removed]",
      "text/plain": [
       "<Figure size 432x288 with 1 Axes>"
      ]
     },
     "metadata": {
      "needs_background": "light"
     },
     "output_type": "display_data"
    }
   ],
   "source": [
    "# I will use the matplot to crate a box plot to check for outliers\n",
    "plt.boxplot(updated_Visit_data.visit)"
   ]
  },
  {
   "cell_type": "markdown",
   "id": "8c417cdd",
   "metadata": {},
   "source": [
    "As seen above in the box plot our data is estimated to be between 750 and 2,250. Which tells us that any data out of this area could be an outlier. "
   ]
  },
  {
   "cell_type": "markdown",
   "id": "1d483f54",
   "metadata": {},
   "source": [
    "### Step seven: Get rid of any outliers"
   ]
  },
  {
   "cell_type": "code",
   "execution_count": 20,
   "id": "bef78b6f",
   "metadata": {},
   "outputs": [
    {
     "name": "stdout",
     "output_type": "stream",
     "text": [
      "New Visit Data without outliers: 849\n"
     ]
    }
   ],
   "source": [
    "# After viewing the box plot I have determined to get rid of \n",
    "# outliers that are greater than 2,800 and lower than 250\n",
    "new_Visit_data = updated_Visit_data[(updated_Visit_data['visit'] <= 2800) & (updated_Visit_data['visit'] >= 250)]\n",
    "# Last I will print the update amount of data in the data frame\n",
    "print(\"New Visit Data without outliers is: {}\".format(*new_Visit_data.shape))"
   ]
  },
  {
   "cell_type": "code",
   "execution_count": null,
   "id": "962d67d2",
   "metadata": {},
   "outputs": [],
   "source": []
  }
 ],
 "metadata": {
  "kernelspec": {
   "display_name": "Python 3",
   "language": "python",
   "name": "python3"
  },
  "language_info": {
   "codemirror_mode": {
    "name": "ipython",
    "version": 3
   },
   "file_extension": ".py",
   "mimetype": "text/x-python",
   "name": "python",
   "nbconvert_exporter": "python",
   "pygments_lexer": "ipython3",
   "version": "3.8.8"
  }
 },
 "nbformat": 4,
 "nbformat_minor": 5
}
