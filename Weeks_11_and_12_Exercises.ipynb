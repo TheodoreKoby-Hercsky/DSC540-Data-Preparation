{
 "cells": [
  {
   "cell_type": "markdown",
   "id": "81854c30",
   "metadata": {},
   "source": [
    "## Weeks 11 and 12 Exercises"
   ]
  },
  {
   "cell_type": "code",
   "execution_count": 2,
   "id": "5fbc93bc",
   "metadata": {},
   "outputs": [],
   "source": [
    "# First I will import some needed libraries\n",
    "import numpy as np\n",
    "import pandas as pd\n",
    "import matplotlib.pyplot as plt\n",
    "%matplotlib inline\n",
    "import chardet\n",
    "import sqlite3"
   ]
  },
  {
   "cell_type": "markdown",
   "id": "a01f8c0f",
   "metadata": {},
   "source": [
    "## Step 1: Connect to petsDB and check whether the connection has been successful"
   ]
  },
  {
   "cell_type": "code",
   "execution_count": 3,
   "id": "0d1d4d97",
   "metadata": {},
   "outputs": [],
   "source": [
    "# First I will use sqlite3.connect to connect to my pets data base.\n",
    "Pet_Connect = sqlite3.connect(\"petsdb\")"
   ]
  },
  {
   "cell_type": "code",
   "execution_count": 6,
   "id": "5103c6ee",
   "metadata": {},
   "outputs": [
    {
     "name": "stdout",
     "output_type": "stream",
     "text": [
      "True\n"
     ]
    }
   ],
   "source": [
    "# Next I will use a function to determine if my connection is successful\n",
    "def open_pets(Pet_Connect):\n",
    "    try:\n",
    "        Pet_Connect.execute(\"SELECT * FROM persons LIMIT 1\")\n",
    "        return True\n",
    "    except sqlite3.ProgrammingError as e:\n",
    "        print(\"Connection finished {}\".format(e))\n",
    "        return False\n",
    "print(open_pets(Pet_Connect))"
   ]
  },
  {
   "cell_type": "markdown",
   "id": "6fc3b495",
   "metadata": {},
   "source": [
    "## Step 2: Find the different age groups in the persons database"
   ]
  },
  {
   "cell_type": "code",
   "execution_count": 7,
   "id": "0bf7d37a",
   "metadata": {},
   "outputs": [],
   "source": [
    "# First I will use sqlite3.connect to connect to my pets data base. Then\n",
    "# I will use cursor to allow me to use a for statement \n",
    "Pet_Connect = sqlite3.connect(\"petsdb\")\n",
    "Cursor_connect = Pet_Connect.cursor()"
   ]
  },
  {
   "cell_type": "code",
   "execution_count": 9,
   "id": "5b6f548e",
   "metadata": {},
   "outputs": [
    {
     "name": "stdout",
     "output_type": "stream",
     "text": [
      "There are 2 individuals that are 5 years old.\n",
      "There are 1 individuals that are 6 years old.\n",
      "There are 1 individuals that are 7 years old.\n",
      "There are 3 individuals that are 8 years old.\n",
      "There are 1 individuals that are 9 years old.\n",
      "There are 2 individuals that are 11 years old.\n",
      "There are 3 individuals that are 12 years old.\n",
      "There are 1 individuals that are 13 years old.\n",
      "There are 4 individuals that are 14 years old.\n",
      "There are 2 individuals that are 16 years old.\n",
      "There are 2 individuals that are 17 years old.\n",
      "There are 3 individuals that are 18 years old.\n",
      "There are 1 individuals that are 19 years old.\n",
      "There are 3 individuals that are 22 years old.\n",
      "There are 2 individuals that are 23 years old.\n",
      "There are 3 individuals that are 24 years old.\n",
      "There are 2 individuals that are 25 years old.\n",
      "There are 1 individuals that are 27 years old.\n",
      "There are 1 individuals that are 30 years old.\n",
      "There are 3 individuals that are 31 years old.\n",
      "There are 1 individuals that are 32 years old.\n",
      "There are 1 individuals that are 33 years old.\n",
      "There are 2 individuals that are 34 years old.\n",
      "There are 3 individuals that are 35 years old.\n",
      "There are 3 individuals that are 36 years old.\n",
      "There are 1 individuals that are 37 years old.\n",
      "There are 2 individuals that are 39 years old.\n",
      "There are 1 individuals that are 40 years old.\n",
      "There are 1 individuals that are 42 years old.\n",
      "There are 2 individuals that are 44 years old.\n",
      "There are 2 individuals that are 48 years old.\n",
      "There are 1 individuals that are 49 years old.\n",
      "There are 1 individuals that are 50 years old.\n",
      "There are 2 individuals that are 51 years old.\n",
      "There are 2 individuals that are 52 years old.\n",
      "There are 2 individuals that are 53 years old.\n",
      "There are 2 individuals that are 54 years old.\n",
      "There are 1 individuals that are 58 years old.\n",
      "There are 1 individuals that are 59 years old.\n",
      "There are 1 individuals that are 60 years old.\n",
      "There are 1 individuals that are 61 years old.\n",
      "There are 2 individuals that are 62 years old.\n",
      "There are 1 individuals that are 63 years old.\n",
      "There are 2 individuals that are 65 years old.\n",
      "There are 2 individuals that are 66 years old.\n",
      "There are 1 individuals that are 67 years old.\n",
      "There are 3 individuals that are 68 years old.\n",
      "There are 1 individuals that are 69 years old.\n",
      "There are 1 individuals that are 70 years old.\n",
      "There are 4 individuals that are 71 years old.\n",
      "There are 1 individuals that are 72 years old.\n",
      "There are 5 individuals that are 73 years old.\n",
      "There are 3 individuals that are 74 years old.\n"
     ]
    }
   ],
   "source": [
    "# Next I will use a for statement to calculate the amount of people and the age group they \n",
    "for ppl, age in Cursor_connect.execute(\"SELECT count(*), age FROM persons GROUP BY age\"):\n",
    "    print(\"There are {} individuals that are {} years old.\".format(ppl, age))"
   ]
  },
  {
   "cell_type": "markdown",
   "id": "9c10afdc",
   "metadata": {},
   "source": [
    "## Step 3: Find the age group that has the maximum number of people"
   ]
  },
  {
   "cell_type": "code",
   "execution_count": 13,
   "id": "8c2552e7",
   "metadata": {},
   "outputs": [
    {
     "name": "stdout",
     "output_type": "stream",
     "text": [
      "People in the age group 73 have the maximum number of people of 5\n"
     ]
    }
   ],
   "source": [
    "# Next I will use a for statement to find an individual age group that\n",
    "# has the highest number of people.\n",
    "for ppl, age in Cursor_connect.execute(\"SELECT count(*), age FROM persons GROUP BY age ORDER BY count(*) DESC\"):\n",
    "    print(\"People in the age group {} have the maximum number of people of {}\".format(age, ppl))\n",
    "    break"
   ]
  },
  {
   "cell_type": "markdown",
   "id": "b49166da",
   "metadata": {},
   "source": [
    "## Step 4: Find the people who do not have a last name"
   ]
  },
  {
   "cell_type": "code",
   "execution_count": 21,
   "id": "cf678515",
   "metadata": {},
   "outputs": [
    {
     "name": "stdout",
     "output_type": "stream",
     "text": [
      "We have 60 individuals without a last name\n"
     ]
    }
   ],
   "source": [
    "# Next I will execute to connect my cursor to find individuals without a last name.\n",
    "# Then I will use a for statement to print the amount of individuals without a last name.\n",
    "Missing_Last_Name = Cursor_connect.execute(\"SELECT count(*) FROM persons WHERE last_name IS null\")\n",
    "for row in Missing_Last_Name:\n",
    "    print(\"We have {} individuals without a last name\".format(row[0]))"
   ]
  },
  {
   "cell_type": "markdown",
   "id": "73671106",
   "metadata": {},
   "source": [
    "## Step 5: Find out how many people have more than one pet."
   ]
  },
  {
   "cell_type": "code",
   "execution_count": 17,
   "id": "42546f4e",
   "metadata": {},
   "outputs": [
    {
     "name": "stdout",
     "output_type": "stream",
     "text": [
      "There are 43 individuals that have more than one pet\n"
     ]
    }
   ],
   "source": [
    "# Next I will execute to connect my cursor to find individuals that have more than \n",
    "# one pet. Then I will use a for statement to print the amount that have more than one pet.\n",
    "Pet_amount = Cursor_connect.execute(\"SELECT count(*) FROM (SELECT count(owner_id) FROM pets GROUP BY owner_id HAVING count(owner_id) >1)\")\n",
    "for row in Pet_amount:\n",
    "    print(\"There are {} individuals that have more than one pet\".format(row[0]))"
   ]
  },
  {
   "cell_type": "markdown",
   "id": "26571278",
   "metadata": {},
   "source": [
    "## Step 6: Find out how many pets have received treatment."
   ]
  },
  {
   "cell_type": "code",
   "execution_count": 20,
   "id": "e25747b5",
   "metadata": {},
   "outputs": [
    {
     "name": "stdout",
     "output_type": "stream",
     "text": [
      "There are 36 pets that have received treatment.\n"
     ]
    }
   ],
   "source": [
    "# Next I will use execute to find out how many pets have received \n",
    "# treatment and use a for statement to print out the amount.\n",
    "Pet_Treatment = Cursor_connect.execute(\"SELECT count(*) FROM pets WHERE treatment_done=1\")\n",
    "for row in Pet_Treatment:\n",
    "    print(\"There are {} pets that have received treatment.\".format(row[0]))"
   ]
  },
  {
   "cell_type": "markdown",
   "id": "1923d8c3",
   "metadata": {},
   "source": [
    "## Step 7: Find out how many pets have received treatment and the type of pet is known."
   ]
  },
  {
   "cell_type": "code",
   "execution_count": 24,
   "id": "f3013794",
   "metadata": {},
   "outputs": [
    {
     "name": "stdout",
     "output_type": "stream",
     "text": [
      "There are 16 pets receiving treatment and type of pet is known.\n"
     ]
    }
   ],
   "source": [
    "# Next I will use execute to find out how many pets have received \n",
    "# treatment and the type of pet is known and use a for statement \n",
    "# to print out the amount\n",
    "pets_type = Cursor_connect.execute(\"SELECT count(*) FROM pets WHERE treatment_done=1 AND pet_type IS NOT null\")\n",
    "for row in pets_type:\n",
    "    print(\"There are {} pets receiving treatment and type of pet is known.\".format(row[0]))"
   ]
  },
  {
   "cell_type": "markdown",
   "id": "0d4946cb",
   "metadata": {},
   "source": [
    "## Step 8: Find out how many pets are from the city called east port."
   ]
  },
  {
   "cell_type": "code",
   "execution_count": 25,
   "id": "f3980e0b",
   "metadata": {},
   "outputs": [
    {
     "name": "stdout",
     "output_type": "stream",
     "text": [
      "There are 49 pets that are from east port\n"
     ]
    }
   ],
   "source": [
    "east_port = Cursor_connect.execute(\"SELECT count(*) FROM pets JOIN persons ON pets.owner_id = persons.id WHERE persons.city='east port'\")\n",
    "for row in east_port:\n",
    "    print(\"There are {} pets that are from east port\".format(row[0]))"
   ]
  },
  {
   "cell_type": "markdown",
   "id": "fab9a2ff",
   "metadata": {},
   "source": [
    "## Step 9: Find out how many pets are from the city called east port and received a treatment."
   ]
  },
  {
   "cell_type": "code",
   "execution_count": 26,
   "id": "4060d467",
   "metadata": {},
   "outputs": [
    {
     "name": "stdout",
     "output_type": "stream",
     "text": [
      "There are 11 pets that are from east port that have had treatment done\n"
     ]
    }
   ],
   "source": [
    "east_port_treatment = Cursor_connect.execute(\"SELECT count(*) FROM pets JOIN persons ON pets.owner_id = persons.id WHERE persons.city='east port' AND pets.treatment_done=1\")\n",
    "for row in east_port_treatment:\n",
    "    print(\"There are {} pets that are from east port that have had treatment done\".format(row[0]))"
   ]
  },
  {
   "cell_type": "code",
   "execution_count": null,
   "id": "c63e3a4b",
   "metadata": {},
   "outputs": [],
   "source": []
  }
 ],
 "metadata": {
  "kernelspec": {
   "display_name": "Python 3",
   "language": "python",
   "name": "python3"
  },
  "language_info": {
   "codemirror_mode": {
    "name": "ipython",
    "version": 3
   },
   "file_extension": ".py",
   "mimetype": "text/x-python",
   "name": "python",
   "nbconvert_exporter": "python",
   "pygments_lexer": "ipython3",
   "version": "3.8.8"
  }
 },
 "nbformat": 4,
 "nbformat_minor": 5
}
